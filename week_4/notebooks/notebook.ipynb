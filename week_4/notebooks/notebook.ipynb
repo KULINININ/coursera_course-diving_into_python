{
 "cells": [
  {
   "cell_type": "markdown",
   "metadata": {},
   "source": [
    "#  Магические методы"
   ]
  },
  {
   "cell_type": "markdown",
   "metadata": {},
   "source": [
    "#### Магический метод — это метод, определённый внутри класса, который начинается и заканчивается двумя подчёркиваниями. Например, магическим методом является метод __init__, который отвечает за инициализацию созданного объекта. Давайте определим класс User, который будет переопределять магический метод __init__. В нём будем записывать полученые имя и e-mail в атрибуты класса. Также определим метод, который возвращает атрибуты класса в виде словаря. С этим вы уже должны быть знакомы:"
   ]
  },
  {
   "cell_type": "code",
   "execution_count": 1,
   "metadata": {},
   "outputs": [
    {
     "name": "stdout",
     "output_type": "stream",
     "text": [
      "{'name': 'Jane Doe', 'e-mail': 'janedoe@example.com'}\n"
     ]
    }
   ],
   "source": [
    "class User:\n",
    "    \n",
    "    def __init__(self, name, email):\n",
    "        self.name = name\n",
    "        self.email = email\n",
    "        \n",
    "    def get_email_data(self):\n",
    "        return {\n",
    "            'name': self.name,\n",
    "            'e-mail': self.email\n",
    "        }\n",
    "    \n",
    "\n",
    "jane = User('Jane Doe', 'janedoe@example.com')\n",
    "\n",
    "print(jane.get_email_data())"
   ]
  },
  {
   "cell_type": "markdown",
   "metadata": {},
   "source": [
    "#### Ещё одним магическим методом является метод __new__, в котором прописано, что происходит в момент создания объекта класса. Метод __new__ возвращает только что созданный объект класса. Например, создадим класс Singleton, который гарантирует то, что не может быть создано больше одного объекта данного класса. Например, мы можем попытаться создать два объекта a и b, которые в итоге окажутся одним и тем же объектом:"
   ]
  },
  {
   "cell_type": "code",
   "execution_count": 3,
   "metadata": {},
   "outputs": [
    {
     "name": "stdout",
     "output_type": "stream",
     "text": [
      "True\n"
     ]
    }
   ],
   "source": [
    "class Singleton:\n",
    "    \n",
    "    instance = None\n",
    "    \n",
    "    def __new__(cls):\n",
    "        if cls.instance is None:\n",
    "            cls.instance = super().__new__(cls)\n",
    "            \n",
    "        return cls.instance\n",
    "    \n",
    "    \n",
    "a = Singleton()\n",
    "b = Singleton()\n",
    "\n",
    "print(a is b)"
   ]
  },
  {
   "cell_type": "markdown",
   "metadata": {},
   "source": [
    "#### Существует также метод __del__, который определяет поведение при удалении объекта. Однако, он работает не всегда очевидно. Он вызывается не когда мы удаляем объект оператором del, а когда количество ссылок на наш объект стало равным нулю и вызывался garbage collector. Это не всегда происходит тогда, когда мы думаем, что это должно произойти, поэтому переопределять метод __del__ нежелательно."
   ]
  },
  {
   "cell_type": "markdown",
   "metadata": {},
   "source": [
    "#### Одним из магических методов является метод __str__, который определяет поведение, при вызове функции print от класса. Метод __str__ должен определить человекочитаемое описание нашего класса, которое пользователь может потом вывести в интерфейсе. В следующем примере мы используем ранее написанный класс User, но теперь, если мы будем принтить наш объект, у нас будет выводиться понятное и читаемое название:"
   ]
  },
  {
   "cell_type": "code",
   "execution_count": 4,
   "metadata": {},
   "outputs": [
    {
     "name": "stdout",
     "output_type": "stream",
     "text": [
      "Jane Doe <janedoe@example.com>\n"
     ]
    }
   ],
   "source": [
    "class User:\n",
    "    \n",
    "    def __init__(self, name, email):\n",
    "        self.name = name\n",
    "        self.email = email\n",
    "        \n",
    "    def __str__(self):\n",
    "        return f\"{self.name} <{self.email}>\"\n",
    "    \n",
    "    \n",
    "jane = User('Jane Doe', 'janedoe@example.com')\n",
    "\n",
    "print(jane)"
   ]
  },
  {
   "cell_type": "markdown",
   "metadata": {},
   "source": [
    "#### Ещё двумя полезными методами магическими являются методы __hash__ и __eq__, которые определяют то, что происходит при вызове функции hash и как сравниваются объекты соответственно. Магический метод __hash__ переопределяет функцию хеширования, которая используется, например, когда мы получаем ключи в словаре. В следующем примере мы указываем в классе User, что при вызове функции hash в качестве хеша всегда берётся e-mail пользователя, и также при сравнении пользователей сравниваются их e-mail-ы. Таким образом, если мы создадим двух юзеров с разными именами, но одинаковыми e-mail-ами, при вызове функции сравнения Python покажет, что это один и тот же объект, потому что вызывается переопределённый метод __eq__, который сравнивает только e-mail-ы:"
   ]
  },
  {
   "cell_type": "code",
   "execution_count": 8,
   "metadata": {},
   "outputs": [
    {
     "name": "stdout",
     "output_type": "stream",
     "text": [
      "True\n"
     ]
    }
   ],
   "source": [
    "class User:\n",
    "    \n",
    "    def __init__(self, name, email):\n",
    "        self.name = name\n",
    "        self.email = email\n",
    "        \n",
    "    def __hash__(self):\n",
    "        return hash(self.email)\n",
    "    \n",
    "    def __eq__(self, obj):\n",
    "        return self.email == obj.email\n",
    "    \n",
    "\n",
    "jane = User('Jane Doe', 'jdoe@example.com')\n",
    "joe = User('Joe Doe', 'jdoe@example.com')\n",
    "\n",
    "print(jane == joe)"
   ]
  },
  {
   "cell_type": "markdown",
   "metadata": {},
   "source": [
    "#### Точно так же функция hash возвращает теперь одно и то же значение, потому что сравниваются только e-mail-ы, которые в данном случае одинаковы:"
   ]
  },
  {
   "cell_type": "code",
   "execution_count": 9,
   "metadata": {},
   "outputs": [
    {
     "name": "stdout",
     "output_type": "stream",
     "text": [
      "-7915891702527125443\n",
      "-7915891702527125443\n"
     ]
    }
   ],
   "source": [
    "print(hash(jane))\n",
    "print(hash(joe))"
   ]
  },
  {
   "cell_type": "markdown",
   "metadata": {},
   "source": [
    "#### Также, если мы попробуем создать словарь, где в качестве ключа будут использоваться уже созданные объекты класса User, то создастся словарь только с одним ключом, потому что оба объекта имеют одинаковое значение хеша:"
   ]
  },
  {
   "cell_type": "code",
   "execution_count": 10,
   "metadata": {},
   "outputs": [
    {
     "name": "stdout",
     "output_type": "stream",
     "text": [
      "{<__main__.User object at 0x0000025D0DDA4A60>: 'Joe Doe'}\n"
     ]
    }
   ],
   "source": [
    "user_email_map = {user: user.name for user in [jane, joe]}\n",
    "\n",
    "print(user_email_map)"
   ]
  },
  {
   "cell_type": "markdown",
   "metadata": {},
   "source": [
    "#### Очень важными магическими методами являются методы, определяющие доступ к атрибутам. Это методы __getattr__ и __getattribute__. Важно понимать отличия между ними. Итак, метод __getattr__ определяет поведение, когда наш атрибут, который мы пытаемся получить, не найден. Метод __getattribute__ вызывается в любом случае, когда мы обращаемся к какому-либо атрибуту объекта. Например, мы можем возвращать всегда какую-то строчку и ничего не делать, как в следующем примере. Мы определили класс и переопределили метод __getattribute__, который всегда возвращает одну и ту же строку. Таким образом, к какому бы атрибуту мы ни обратились, у нас всегда выведется эта строка:"
   ]
  },
  {
   "cell_type": "code",
   "execution_count": 11,
   "metadata": {},
   "outputs": [
    {
     "name": "stdout",
     "output_type": "stream",
     "text": [
      "Nope\n",
      "Nope\n",
      "Nope\n"
     ]
    }
   ],
   "source": [
    "class Researcher:\n",
    "    \n",
    "    def __getattr__(self, name):\n",
    "        return \"Nothing found :(\"\n",
    "    \n",
    "    def __getattribute__(self, name):\n",
    "        return \"Nope\"\n",
    "    \n",
    "    \n",
    "obj = Researcher()\n",
    "\n",
    "print(obj.attr)\n",
    "print(obj.method)\n",
    "print(obj.DFG2H3J00KLL)"
   ]
  },
  {
   "cell_type": "code",
   "execution_count": 12,
   "metadata": {},
   "outputs": [
    {
     "name": "stdout",
     "output_type": "stream",
     "text": [
      "Looking for attr\n",
      "Nothing found :(\n",
      "\n",
      "Looking for method\n",
      "Nothing found :(\n",
      "\n",
      "Looking for DFG2H3J00KLL\n",
      "Nothing found :(\n",
      "\n"
     ]
    }
   ],
   "source": [
    "class Researcher:\n",
    "    \n",
    "    def __getattr__(self, name):\n",
    "        return \"Nothing found :(\\n\"\n",
    "    \n",
    "    def __getattribute__(self, name):\n",
    "        print(f\"Looking for {name}\")\n",
    "        return object.__getattribute__(self, name)\n",
    "    \n",
    "    \n",
    "obj = Researcher()\n",
    "\n",
    "print(obj.attr)\n",
    "print(obj.method)\n",
    "print(obj.DFG2H3J00KLL)"
   ]
  },
  {
   "cell_type": "markdown",
   "metadata": {},
   "source": [
    "#### Магический метод __setattr__, как вы могли догадаться, определяет поведение при присваивании значения к атрибуту. Например, вместо того, чтобы присвоить значение, мы можем опять же вернуть какую-то строчку и ничего не делать. В данном случае, если мы попытаемся присвоить значение атрибуту, у нас ничего не выйдет — атрибут не создастся:"
   ]
  },
  {
   "cell_type": "code",
   "execution_count": 13,
   "metadata": {},
   "outputs": [
    {
     "name": "stdout",
     "output_type": "stream",
     "text": [
      "Not gonna set math!\n"
     ]
    }
   ],
   "source": [
    "class Ignorant:\n",
    "    \n",
    "    def __setattr__(self, name, value):\n",
    "        print(f\"Not gonna set {name}!\")\n",
    "        \n",
    "        \n",
    "obj = Ignorant()\n",
    "obj.math = True"
   ]
  },
  {
   "cell_type": "code",
   "execution_count": 14,
   "metadata": {},
   "outputs": [
    {
     "ename": "AttributeError",
     "evalue": "'Ignorant' object has no attribute 'math'",
     "output_type": "error",
     "traceback": [
      "\u001b[1;31m---------------------------------------------------------------------------\u001b[0m",
      "\u001b[1;31mAttributeError\u001b[0m                            Traceback (most recent call last)",
      "\u001b[1;32m<ipython-input-14-f41a5f04e4f0>\u001b[0m in \u001b[0;36m<module>\u001b[1;34m\u001b[0m\n\u001b[1;32m----> 1\u001b[1;33m \u001b[0mprint\u001b[0m\u001b[1;33m(\u001b[0m\u001b[0mobj\u001b[0m\u001b[1;33m.\u001b[0m\u001b[0mmath\u001b[0m\u001b[1;33m)\u001b[0m\u001b[1;33m\u001b[0m\u001b[1;33m\u001b[0m\u001b[0m\n\u001b[0m",
      "\u001b[1;31mAttributeError\u001b[0m: 'Ignorant' object has no attribute 'math'"
     ]
    }
   ],
   "source": [
    "print(obj.math)"
   ]
  },
  {
   "cell_type": "markdown",
   "metadata": {},
   "source": [
    "#### Наконец, метод __delattr__ управляет поведением при удалении атрибута объекта. Например, его имеет смысл использовать, если мы хотим каскадно удалить объекты, связанные с нашим классом. В данном случае мы просто продолжаем удаление с помощью класса object и логируем то, что у нас происходит удаление:"
   ]
  },
  {
   "cell_type": "code",
   "execution_count": 15,
   "metadata": {},
   "outputs": [
    {
     "name": "stdout",
     "output_type": "stream",
     "text": [
      "Goodbye, attr. You were 10!\n"
     ]
    }
   ],
   "source": [
    "class Polite:\n",
    "    \n",
    "    def __delattr__(self, name):\n",
    "        value = getattr(self, name)\n",
    "        print(f\"Goodbye, {name}. You were {value}!\")\n",
    "        \n",
    "        object.__delattr__(self, name)\n",
    "\n",
    "        \n",
    "obj = Polite()\n",
    "\n",
    "obj.attr = 10\n",
    "del obj.attr"
   ]
  },
  {
   "cell_type": "markdown",
   "metadata": {},
   "source": [
    "#### Ещё одним магическим методом является метод __call__, который определяет поведение программы при вызове класса. Например, с помощью метода __call__ мы можем определить logger, который будем потом использовать в качестве декоратора (да, декоратором может быть не только функция, но и класс!). В примере ниже при инициализации класса Logger объект этого класса запоминает filename, который ему передан. Каждый раз, когда мы будем вызывать наш класс, он будет возвращать новую функцию в соответствии с протоколом декораторов и записывать в лог-файл строчку о вызове функции. В данном случае мы определяем пустую функцию, и декоратор записывает все её вызовы:"
   ]
  },
  {
   "cell_type": "code",
   "execution_count": 17,
   "metadata": {},
   "outputs": [],
   "source": [
    "class Logger:\n",
    "    \n",
    "    def __init__(self, filename):\n",
    "        self.filename = filename\n",
    "        \n",
    "    def __call__(self, func):\n",
    "        def wrapped(*args, **kwargs):\n",
    "            with open(self.filename, 'a') as f:\n",
    "                f.write('Oh Danny boy...')\n",
    "                \n",
    "            return func(*args, *kwargs)\n",
    "        return wrapped\n",
    "\n",
    "logger = Logger('log.txt')\n",
    "\n",
    "@logger\n",
    "def completely_useless_function():\n",
    "    pass"
   ]
  },
  {
   "cell_type": "code",
   "execution_count": 18,
   "metadata": {},
   "outputs": [
    {
     "name": "stdout",
     "output_type": "stream",
     "text": [
      "Oh Danny boy...\n"
     ]
    }
   ],
   "source": [
    "completely_useless_function()\n",
    "\n",
    "with open('log.txt') as f:\n",
    "    print(f.read())"
   ]
  },
  {
   "cell_type": "markdown",
   "metadata": {},
   "source": [
    "#### Классическим примером на перегрузку операторов в других языках программирования является перегрузка оператора сложения. В Python-е за операцию сложения отвечает оператор __add__ (в свою очередь, вычитание можно перегрузить с помощью метода __sub__). В качестве примера определим класс NoisyInt, который будет работать почти как integer, но добавлять шум при сложении:"
   ]
  },
  {
   "cell_type": "code",
   "execution_count": 19,
   "metadata": {},
   "outputs": [],
   "source": [
    "import random\n",
    "\n",
    "\n",
    "class NoisyInt:\n",
    "    \n",
    "    def __init__(self, value):\n",
    "        self.value = value\n",
    "        \n",
    "    def __add__(self, obj):\n",
    "        noise = random.uniform(-1, 1)\n",
    "        return self.value + obj.value + noise\n",
    "\n",
    "\n",
    "a = NoisyInt(10)\n",
    "b = NoisyInt(20)"
   ]
  },
  {
   "cell_type": "code",
   "execution_count": 20,
   "metadata": {},
   "outputs": [
    {
     "name": "stdout",
     "output_type": "stream",
     "text": [
      "30.577597520342675\n",
      "29.784477978879362\n",
      "30.351447766762817\n"
     ]
    }
   ],
   "source": [
    "for _ in range(3):\n",
    "    print(a + b)"
   ]
  },
  {
   "cell_type": "markdown",
   "metadata": {},
   "source": [
    "#### В качестве упражнения вам предлагается написать свой контейнер с помощью методов __getitem__ (определяет поведение объекта при доступе по индексу или ключу — obj[key]), __setitem__ (определяет поведение объекта при присваивании по индексу или ключу — obj[key] = value)."
   ]
  },
  {
   "cell_type": "markdown",
   "metadata": {},
   "source": [
    "#### Вот одно из возможных решений данного упражнения. Мы реализовали свой собственный класс PascalList, который имитирует поведение списков в Паскале. Как вы знаете, в Python-e списки нумеруются с нуля, а в Паскале — с единицы. Мы можем переопределить методы __getitem__ и __setitem__ так, чтобы они работали как в Паскале:"
   ]
  },
  {
   "cell_type": "code",
   "execution_count": 21,
   "metadata": {},
   "outputs": [
    {
     "name": "stdout",
     "output_type": "stream",
     "text": [
      "1\n"
     ]
    }
   ],
   "source": [
    "class PascalList:\n",
    "    \n",
    "    def __init__(self, original_list=None):\n",
    "        self.container = original_list or []\n",
    "        \n",
    "    def __getitem__(self, index):\n",
    "        return self.container[index - 1]\n",
    "    \n",
    "    def __setitem__(self, index, value):\n",
    "        self.container[index - 1] = value\n",
    "    \n",
    "    def __str__(self):\n",
    "        return self.container.__str__()\n",
    "    \n",
    "\n",
    "numbers = PascalList([1, 2, 3, 4, 5])\n",
    "\n",
    "print(numbers[1])"
   ]
  },
  {
   "cell_type": "code",
   "execution_count": 22,
   "metadata": {},
   "outputs": [
    {
     "name": "stdout",
     "output_type": "stream",
     "text": [
      "[1, 2, 3, 4, 25]\n"
     ]
    }
   ],
   "source": [
    "numbers[5] = 25\n",
    "\n",
    "print(numbers)"
   ]
  },
  {
   "cell_type": "markdown",
   "metadata": {},
   "source": [
    "# Итераторы"
   ]
  },
  {
   "cell_type": "markdown",
   "metadata": {},
   "source": [
    "#### C итераторами вы уже работали раньше, когда, например, использовали функцию range для цикла for. Цикл for позволяет пробегать по итератору и, например, выводить подряд числа, как в случае с функцией range:"
   ]
  },
  {
   "cell_type": "code",
   "execution_count": 23,
   "metadata": {},
   "outputs": [
    {
     "name": "stdout",
     "output_type": "stream",
     "text": [
      "0\n",
      "1\n",
      "0\n",
      "1\n",
      "0\n"
     ]
    }
   ],
   "source": [
    "for number in range(5):\n",
    "    print(number & 1)"
   ]
  },
  {
   "cell_type": "markdown",
   "metadata": {},
   "source": [
    "#### Также простейшим итератором является строка или коллекция:"
   ]
  },
  {
   "cell_type": "code",
   "execution_count": 25,
   "metadata": {},
   "outputs": [
    {
     "name": "stdout",
     "output_type": "stream",
     "text": [
      "112\n",
      "121\n",
      "116\n",
      "104\n",
      "111\n",
      "110\n"
     ]
    }
   ],
   "source": [
    "for letter in \"python\":\n",
    "    print(ord(letter))"
   ]
  },
  {
   "cell_type": "markdown",
   "metadata": {},
   "source": [
    "#### Итератор — это объект, по которому вы можете \"пробегаться\" или итерироваться. Можно создать свой простейший итератор при помощи встроенной функции iter() и, например, передать ей список. Внутри протокол итерации работает очень просто. Для получения следующего элемента каждый раз вызывается функция next(), которая возвращает следующий элемент. В данном случае это 1, 2 и 3. Когда элементы исчерпаны, то есть итератор закончился, выбрасывается исключение StopIteration, которое говорит о том, что, например, нужно выйти из цикла for:"
   ]
  },
  {
   "cell_type": "code",
   "execution_count": 27,
   "metadata": {},
   "outputs": [
    {
     "name": "stdout",
     "output_type": "stream",
     "text": [
      "1\n"
     ]
    }
   ],
   "source": [
    "iterator = iter([1, 2, 3])\n",
    "\n",
    "print(next(iterator))"
   ]
  },
  {
   "cell_type": "code",
   "execution_count": 28,
   "metadata": {},
   "outputs": [
    {
     "name": "stdout",
     "output_type": "stream",
     "text": [
      "2\n"
     ]
    }
   ],
   "source": [
    "print(next(iterator))"
   ]
  },
  {
   "cell_type": "code",
   "execution_count": 29,
   "metadata": {},
   "outputs": [
    {
     "name": "stdout",
     "output_type": "stream",
     "text": [
      "3\n"
     ]
    }
   ],
   "source": [
    "print(next(iterator))"
   ]
  },
  {
   "cell_type": "code",
   "execution_count": 30,
   "metadata": {},
   "outputs": [
    {
     "ename": "StopIteration",
     "evalue": "",
     "output_type": "error",
     "traceback": [
      "\u001b[1;31m---------------------------------------------------------------------------\u001b[0m",
      "\u001b[1;31mStopIteration\u001b[0m                             Traceback (most recent call last)",
      "\u001b[1;32m<ipython-input-30-d4aa693aba62>\u001b[0m in \u001b[0;36m<module>\u001b[1;34m\u001b[0m\n\u001b[1;32m----> 1\u001b[1;33m \u001b[0mprint\u001b[0m\u001b[1;33m(\u001b[0m\u001b[0mnext\u001b[0m\u001b[1;33m(\u001b[0m\u001b[0miterator\u001b[0m\u001b[1;33m)\u001b[0m\u001b[1;33m)\u001b[0m\u001b[1;33m\u001b[0m\u001b[1;33m\u001b[0m\u001b[0m\n\u001b[0m",
      "\u001b[1;31mStopIteration\u001b[0m: "
     ]
    }
   ],
   "source": [
    "print(next(iterator))"
   ]
  },
  {
   "cell_type": "markdown",
   "metadata": {},
   "source": [
    "#### В Python-е вы, конечно, можете реализовать свой собственный итератор, написав класс с соответствующими магическими методами. Эти магические методы — это методы __iter__ и __next__. Метод __iter__ должен возвращать сам итератор, а метод __next__ определяет то, какие элементы возвращаются при каждой следующей итерации."
   ]
  },
  {
   "cell_type": "markdown",
   "metadata": {},
   "source": [
    "#### Давайте напишем свой класс SquareIterator, который будет аналогом функции range, но возвращающим не сами числа в определённом диапазоне, а квадраты чисел. В функции __init__ сохраняются пределы итерирования, а в функции __next__ указано, что происходит при вызове следующего элемента. Если элементы исчерпаны (current превысил end), выбрасываем исключение StopIteration, которое говорит протоколу итерации о том, что итерация должна закончиться. В любом другом случае мы возводим число в квадрат и инкрементируем счётчик:"
   ]
  },
  {
   "cell_type": "code",
   "execution_count": 41,
   "metadata": {},
   "outputs": [
    {
     "name": "stdout",
     "output_type": "stream",
     "text": [
      "1\n",
      "4\n",
      "9\n"
     ]
    }
   ],
   "source": [
    "class SquareIterator:\n",
    "    \n",
    "    def __init__(self, start, end):\n",
    "        self.current = start\n",
    "        self.end = end\n",
    "        \n",
    "    def __iter__(self):\n",
    "        return self\n",
    "    \n",
    "    def __next__(self):\n",
    "        if self.current >= self.end:\n",
    "            raise StopIteration\n",
    "        \n",
    "        result = self.current ** 2\n",
    "        self.current += 1\n",
    "        return result\n",
    "    \n",
    "    \n",
    "for num in SquareIterator(1, 4):\n",
    "    print(num)"
   ]
  },
  {
   "cell_type": "markdown",
   "metadata": {},
   "source": [
    "#### Python позволяет вам создавать собственные итераторы, и иногда это бывает полезно, когда вам нужно поддержать протокол итерации в своём классе. Что интересно, можно также определить свой собственный итератор, не определяя __iter__ и __next__. Это можно сделать, написав у класса метод __getitem__, который определяет работу класса при обращении к его объектам с помощью квадратных скобок (как к контейнеру). Мы можем создать свой собственный контейнер IndexIterable, прописав метод __getitem__:"
   ]
  },
  {
   "cell_type": "code",
   "execution_count": 32,
   "metadata": {},
   "outputs": [
    {
     "name": "stdout",
     "output_type": "stream",
     "text": [
      "s\n",
      "t\n",
      "r\n"
     ]
    }
   ],
   "source": [
    "class IndexIterable:\n",
    "    \n",
    "    def __init__(self, obj):\n",
    "        self.obj = obj\n",
    "        \n",
    "    def __getitem__(self, index):\n",
    "        return self.obj[index]\n",
    "    \n",
    "    \n",
    "for letter in IndexIterable('str'):\n",
    "    print(letter)"
   ]
  },
  {
   "cell_type": "markdown",
   "metadata": {},
   "source": [
    "#### Это делается довольно редко. Чаще всего для того чтобы определить свой итератор,используются именно методы __iter__ и __next__."
   ]
  },
  {
   "cell_type": "markdown",
   "metadata": {},
   "source": [
    "# Контекстные менеджеры"
   ]
  },
  {
   "cell_type": "markdown",
   "metadata": {},
   "source": [
    "#### С контекстными менеджерами вы уже работали, когда открывали файлы. Вам известно, что если использовать контекстный менеджер with для открытия файла, вам не нужно заботиться о том, чтобы потом его закрыть — контекстный менеджер сделает это сам. Контекстные менеджеры определяют поведение, которое происходит в начале и в конце блока исполнения (блока with). Часто после использования ресурса его необходимо закрыть (как, например, в случае с файлами, сокетами, соединениями). Чтобы об этом не заботиться, можно использовать контекстный менеджер. Также они используются при работе с транзакциями (когда обязательно нужно либо закончить транзакцию, либо ее откатить)."
   ]
  },
  {
   "cell_type": "markdown",
   "metadata": {},
   "source": [
    "#### Чтобы определить свой контекстный менеджер, нужно написать свой класс с магическими методами. Эти магические методы — __enter__ и __exit__, которые говорят о том, что происходит в начале и в конце исполнения кода внутри контекстного менеджера. Давайте попробуем написать аналог стандартного контекстного менеджера для открытия файлов и назовём его open_file. Обратите внимание, что название класса пишется snake_case-ом, так как это контекстный менеджер."
   ]
  },
  {
   "cell_type": "code",
   "execution_count": 33,
   "metadata": {},
   "outputs": [],
   "source": [
    "with open('access_log.log', 'a') as f:\n",
    "    f.write('New Access')"
   ]
  },
  {
   "cell_type": "markdown",
   "metadata": {},
   "source": [
    "#### Итак, наш контекстный менеджер используется точно так же, как и стандартный. При вызове open_file создается файловый объект (вызывается метод __init__), который записывается в переменную класса f. Переменная f возвращается из метода __enter__ (метод __enter__ возвращает то, что требуется потом записать с помощью оператора as — мы можем ничего не возвращать из __enter__, но тогда не будет смысла использовать as). Соответственно, в методе __exit__ определяется поведение, которое происходит при выходе из блока контекстного менеджера:"
   ]
  },
  {
   "cell_type": "code",
   "execution_count": 35,
   "metadata": {},
   "outputs": [
    {
     "name": "stdout",
     "output_type": "stream",
     "text": [
      "['Inside `open_file` context manager']\n"
     ]
    }
   ],
   "source": [
    "class open_file:\n",
    "    \n",
    "    def __init__(self, filename, mode):\n",
    "        self.f = open(filename, mode)\n",
    "        \n",
    "    def __enter__(self):\n",
    "        return self.f\n",
    "    \n",
    "    def __exit__(self, *args):\n",
    "        self.f.close()\n",
    "        \n",
    "\n",
    "with open_file('test.log', 'w') as f:\n",
    "    f.write('Inside `open_file` context manager')\n",
    "    \n",
    "with open_file('test.log', 'r') as f:\n",
    "    print(f.readlines())"
   ]
  },
  {
   "cell_type": "markdown",
   "metadata": {},
   "source": [
    "#### Итак, мы открыли файл и записали в него строчку. Если попробовать прочитать этот файл, окажется, что строчка действительно там, а файл открылся и закрылся сам."
   ]
  },
  {
   "cell_type": "markdown",
   "metadata": {},
   "source": [
    "#### Контекстные менеджеры позволяют управлять исключениями, которые произошли внутри блока. Например, мы можем определить контекстный менеджер suppress_exception, который будет работать с exception-ами, которые произошли внутри. Обратите внимание, что в данном случае мы не используем оператор as, поэтому нам не важно, что возвращается из __enter__. Пусть наш контекстный менеджер будет принимать тип exception-а и затем проверять, произошло ли исключение данного типа. Если да — делаем вид, что ничего не произошло. Нужно обязательно вернуть true из __exit__ при исключении, чтобы воспроизведение кода продолжилось и exception не был выброшен."
   ]
  },
  {
   "cell_type": "code",
   "execution_count": 36,
   "metadata": {},
   "outputs": [
    {
     "name": "stdout",
     "output_type": "stream",
     "text": [
      "Nothing happend.\n"
     ]
    }
   ],
   "source": [
    "class suppress_exception:\n",
    "    \n",
    "    def __init__(self, exc_type):\n",
    "        self.exc_type = exc_type\n",
    "        \n",
    "    def __enter__(self):\n",
    "        return\n",
    "    \n",
    "    def __exit__(self, exc_type, exc_value, traceback):\n",
    "        if exc_type == self.exc_type:\n",
    "            print('Nothing happend.')\n",
    "            return True\n",
    "\n",
    "\n",
    "with suppress_exception(ZeroDivisionError):\n",
    "    really_big_number = 1 / 0"
   ]
  },
  {
   "cell_type": "markdown",
   "metadata": {},
   "source": [
    "#### Что интересно, такой контекстный менеджер уже есть в стандартной библиотеке contextlib:"
   ]
  },
  {
   "cell_type": "code",
   "execution_count": 38,
   "metadata": {},
   "outputs": [],
   "source": [
    "import contextlib\n",
    "\n",
    "\n",
    "with contextlib.suppress(ValueError):\n",
    "    raise ValueError"
   ]
  },
  {
   "cell_type": "markdown",
   "metadata": {},
   "source": [
    "#### В качестве примера реализуем контекстный менеджер, который считает время, за которое выполняется код внутри него. Для этого нужно завести переменную, которая фиксирует время запуска контекстного менеждера. Происходит это в методе __init__, когда создается объект класса. В __exit__ вернём разность текущего времени и сохранённого в методе __init__. Также, чтобы иметь возможность выводить внутри контекстного менеджера текущее время выполнения, пропишем return self в __enter__ и определим метод класса current_time:"
   ]
  },
  {
   "cell_type": "code",
   "execution_count": 39,
   "metadata": {},
   "outputs": [
    {
     "name": "stdout",
     "output_type": "stream",
     "text": [
      "Current: 1.008108139038086\n",
      "Elapsed: 2.0147106647491455\n"
     ]
    }
   ],
   "source": [
    "import time\n",
    "\n",
    "\n",
    "class timer():\n",
    "    \n",
    "    def __init__(self):\n",
    "        self.start = time.time()\n",
    "        \n",
    "    def current_time(self):\n",
    "        return time.time() - self.start\n",
    "    \n",
    "    def __enter__(self):\n",
    "        return self\n",
    "    \n",
    "    def __exit__(self, *args):\n",
    "        print('Elapsed: {}'.format(self.current_time()))\n",
    "\n",
    "\n",
    "with timer() as t:\n",
    "    time.sleep(1)\n",
    "    print('Current: {}'.format(t.current_time()))\n",
    "    time.sleep(1)"
   ]
  },
  {
   "cell_type": "markdown",
   "metadata": {},
   "source": [
    "# Дескрипторы"
   ]
  },
  {
   "cell_type": "markdown",
   "metadata": {},
   "source": [
    "#### С помощью дескрипторов в Python реализована практически вся магия при работе с объектами, классами и методами. Чтобы определить свой собственный дескриптор, нужно определить методы класса __get__, __set__ или __delete__. После этого мы можем создать какой-то новый класс и в атрибут этого класса записать объект типа дескриптор. Теперь у данного объекта будет переопределено поведение при доступе к атрибуту (метод __get__), при присваивании значений (метод __set__) или при удалении (метод __delete__). Мы создадим объект класса Class и посмотрим, что будет происходить при обращении к атрибуту:"
   ]
  },
  {
   "cell_type": "code",
   "execution_count": 43,
   "metadata": {},
   "outputs": [],
   "source": [
    "class Descriptor:\n",
    "    def __get__(self, obj, obj_type):\n",
    "        print('get')\n",
    "        \n",
    "    def __set__(self, obj, value):\n",
    "        print('set')\n",
    "        \n",
    "    def __delete__(self, obj):\n",
    "        print('delete')\n",
    "    \n",
    "class Class:\n",
    "    attr = Descriptor()\n",
    "\n",
    "\n",
    "instance = Class()"
   ]
  },
  {
   "cell_type": "code",
   "execution_count": 44,
   "metadata": {},
   "outputs": [
    {
     "name": "stdout",
     "output_type": "stream",
     "text": [
      "get\n"
     ]
    }
   ],
   "source": [
    "instance.attr"
   ]
  },
  {
   "cell_type": "code",
   "execution_count": 45,
   "metadata": {},
   "outputs": [
    {
     "name": "stdout",
     "output_type": "stream",
     "text": [
      "set\n"
     ]
    }
   ],
   "source": [
    "instance.attr = 10"
   ]
  },
  {
   "cell_type": "code",
   "execution_count": 46,
   "metadata": {},
   "outputs": [
    {
     "name": "stdout",
     "output_type": "stream",
     "text": [
      "delete\n"
     ]
    }
   ],
   "source": [
    "del instance.attr"
   ]
  },
  {
   "cell_type": "markdown",
   "metadata": {},
   "source": [
    "#### Дескрипторы явялются мощным механизмом, который позволяет вам незаметно от пользователя переопределять поведение атрибутов в ваших классах. Например, мы можем определить дескриптор Value, который будет переопределять поведение при присваивании ему значения. Определим класс с атрибутом, который будет являться дескриптором, и будем наблюдать модифицированное поведение (умножение на 10) при присваивании значения:"
   ]
  },
  {
   "cell_type": "code",
   "execution_count": 47,
   "metadata": {},
   "outputs": [
    {
     "name": "stdout",
     "output_type": "stream",
     "text": [
      "100\n"
     ]
    }
   ],
   "source": [
    "class Value:\n",
    "    def __init__(self):\n",
    "        self.value = None\n",
    "        \n",
    "    @staticmethod\n",
    "    def _prepare_value(value):\n",
    "        return value * 10\n",
    "    \n",
    "    def __get__(self, obj, obj_type):\n",
    "        return self.value\n",
    "    \n",
    "    def __set__(self, obj, value):\n",
    "        self.value = self._prepare_value(value)\n",
    "        \n",
    "\n",
    "class Class:\n",
    "    attr = Value()\n",
    "    \n",
    "\n",
    "instance = Class()\n",
    "instance.attr = 10\n",
    "\n",
    "print(instance.attr)"
   ]
  },
  {
   "cell_type": "markdown",
   "metadata": {},
   "source": [
    "#### Для примера реализуем дескриптор, который записывает в файл все присваиваемыеему значения. Таким образом, если мы создадим класс с какой-то важной информацией (например, класс Account), где важная информация -- это amount, денежное значение, которое всегда нужно сохранять:"
   ]
  },
  {
   "cell_type": "code",
   "execution_count": 48,
   "metadata": {},
   "outputs": [
    {
     "name": "stdout",
     "output_type": "stream",
     "text": [
      "200\n"
     ]
    }
   ],
   "source": [
    "class ImportantValue:\n",
    "    def __init__(self, amount):\n",
    "        self.amount = amount\n",
    "        \n",
    "    def __get__(self, obj, obj_type):\n",
    "        return self.amount\n",
    "    \n",
    "    def __set__(self, obj, value):\n",
    "        with open('log.txt', 'w') as f:\n",
    "            f.write(str(value))\n",
    "            \n",
    "        self.amount = value\n",
    "\n",
    "\n",
    "class Account:\n",
    "    amount = ImportantValue(100)\n",
    "\n",
    "bobs_account = Account()\n",
    "bobs_account.amount = 200\n",
    "\n",
    "with open('log.txt', 'r') as f:\n",
    "    print(f.read())"
   ]
  },
  {
   "cell_type": "markdown",
   "metadata": {},
   "source": [
    "#### есмотря на то, что вы пользовались функциями и методами уже довольно давно, вы могли не знать, что на самом деле функции и методы реализованы с помощью дескрипторов. Чтобы понять, что это действительно так, можно попробовать обратиться к одному и тому же методу с помощью объекта класса и самого класса. Оказывается, когда мы обращаемся к методу с помощью obj.method, возвращается bound method — метод, привязанный к определённому объекту. А если мы обращаемся к методу от Class, получаем unbound method — это просто функция. Как видите, один и тот же метод возвращает разные объекты в зависимости от того, как к нему обращаются. Это и есть поведение дескриптора:"
   ]
  },
  {
   "cell_type": "code",
   "execution_count": 50,
   "metadata": {},
   "outputs": [
    {
     "name": "stdout",
     "output_type": "stream",
     "text": [
      "<bound method Class.method of <__main__.Class object at 0x0000025D0DEA5130>>\n",
      "<function Class.method at 0x0000025D0DEAD040>\n"
     ]
    }
   ],
   "source": [
    "class Class:\n",
    "    def method(self):\n",
    "        pass\n",
    "\n",
    "\n",
    "obj = Class()\n",
    "\n",
    "print(obj.method)\n",
    "print(Class.method)"
   ]
  },
  {
   "cell_type": "markdown",
   "metadata": {},
   "source": [
    "#### Вам уже знаком декоратор @property, который позволяет использовать функцию как атрибут класса. В данном случае мы можем определить full_name, который хоть и является функцией, которая возвращает строчку, используется потом так же, как и обычный атрибут, то есть без вызова скобок. При вызове full_name от объекта у нас вызывается функция full_name. Однако если мы пытаемся обратиться к full_name от класса, вернётся объект типа property. На самом деле, property реализовано с помощью дескрипторов, чем и объясняется разное поведение в зависимости от того, как вызывается этот объект:"
   ]
  },
  {
   "cell_type": "code",
   "execution_count": 51,
   "metadata": {},
   "outputs": [
    {
     "name": "stdout",
     "output_type": "stream",
     "text": [
      "Amy Jones\n",
      "<property object at 0x0000025D0DE8DF90>\n"
     ]
    }
   ],
   "source": [
    "class User:\n",
    "    def __init__(self, first_name, last_name):\n",
    "        self.first_name = first_name\n",
    "        self.last_name = last_name\n",
    "        \n",
    "    @property\n",
    "    def full_name(self):\n",
    "        return f'{self.first_name} {self.last_name}'\n",
    "\n",
    "\n",
    "amy = User('Amy', 'Jones')\n",
    "\n",
    "print(amy.full_name)\n",
    "print(User.full_name)"
   ]
  },
  {
   "cell_type": "markdown",
   "metadata": {},
   "source": [
    "#### Напишем свой собственный класс, который будет эмулировать поведение стандартного property. Для этого нужно сохранить функцию, которую property получает. Когда объект вызывается от класса, мы просто возвращаем self, а если атрибут вызван от объекта, вызываем сохранённую функцию:"
   ]
  },
  {
   "cell_type": "code",
   "execution_count": 52,
   "metadata": {},
   "outputs": [],
   "source": [
    "class Property:\n",
    "    def __init__(self, getter):\n",
    "        self.getter = getter\n",
    "        \n",
    "    def __get__(self, obj, obj_type=None):\n",
    "        if obj is None:\n",
    "            return self\n",
    "        \n",
    "        return self.getter(obj)"
   ]
  },
  {
   "cell_type": "markdown",
   "metadata": {},
   "source": [
    "#### Протестируем работу только что созданного декоратора вместе со стандартным @property:"
   ]
  },
  {
   "cell_type": "code",
   "execution_count": 53,
   "metadata": {},
   "outputs": [
    {
     "name": "stdout",
     "output_type": "stream",
     "text": [
      "original\n",
      "custom sugar\n",
      "custom pure\n"
     ]
    }
   ],
   "source": [
    "class Class:\n",
    "    @property\n",
    "    def original(self):\n",
    "        return 'original'\n",
    "    \n",
    "    @Property\n",
    "    def custom_sugar(self):\n",
    "        return 'custom sugar'\n",
    "    \n",
    "    def custom_pure(self):\n",
    "        return 'custom pure'\n",
    "    \n",
    "    custom_pure = Property(custom_pure)\n",
    "\n",
    "\n",
    "obj = Class()\n",
    "\n",
    "print(obj.original)\n",
    "print(obj.custom_sugar)\n",
    "print(obj.custom_pure)"
   ]
  },
  {
   "cell_type": "markdown",
   "metadata": {},
   "source": [
    "#### Точно так же реализованы @staticmethod и @classmethod. Давайте опять напишем свою реализацию этих декораторов. StaticMethod будет просто сохранять функцию и возвращать её при вызове:"
   ]
  },
  {
   "cell_type": "code",
   "execution_count": 54,
   "metadata": {},
   "outputs": [],
   "source": [
    "class StaticMethod:\n",
    "    def __init__(self, func):\n",
    "        self.func = func\n",
    "        \n",
    "    def __get__(self, obj, obj_type=None):\n",
    "        return self.func"
   ]
  },
  {
   "cell_type": "markdown",
   "metadata": {},
   "source": [
    "#### В то же время, ClassMethod возвращает функцию, которая первым аргументом принимает obj_type, то есть класс:"
   ]
  },
  {
   "cell_type": "code",
   "execution_count": 56,
   "metadata": {},
   "outputs": [],
   "source": [
    "class ClassMethod:\n",
    "    def __init__(self, func):\n",
    "        self.func = func\n",
    "        \n",
    "    def __get__(self, obj, obj_type=None):\n",
    "        if obj_type is None:\n",
    "            obj_type = type(obj)\n",
    "            \n",
    "        def new_func(*args, **kwargs):\n",
    "            return self.func(obj_type, *args, **kwargs)\n",
    "\n",
    "        return new_func"
   ]
  },
  {
   "cell_type": "markdown",
   "metadata": {},
   "source": [
    "#### Последний пример дескрипторов в стандартной библиотеке Python — конструкция __slots__, которая позволяет определить класс с жестко заданным набором атрибутов. Как вы помните, у каждого класса есть словарь, в котором хранятся все его атрибуты. Очень часто это бывает излишне. У вас может быть огромное количество объектов, и вы не хотите создавать для каждого объекта словарь. В таком случае конструкция __slots__ позволяет жестко задать количество элементов, которые ваш класс может содержать. В следующем примере мы постулируем, что в нашем классе должен быть только атрибут anakin. Если мы попытаемся добавить в наш класс еще один атрибут, ничего не получится:"
   ]
  },
  {
   "cell_type": "code",
   "execution_count": 57,
   "metadata": {},
   "outputs": [
    {
     "ename": "AttributeError",
     "evalue": "'Class' object has no attribute 'luke'",
     "output_type": "error",
     "traceback": [
      "\u001b[1;31m---------------------------------------------------------------------------\u001b[0m",
      "\u001b[1;31mAttributeError\u001b[0m                            Traceback (most recent call last)",
      "\u001b[1;32m<ipython-input-57-65b8a766212f>\u001b[0m in \u001b[0;36m<module>\u001b[1;34m\u001b[0m\n\u001b[0;32m      8\u001b[0m \u001b[0mobj\u001b[0m \u001b[1;33m=\u001b[0m \u001b[0mClass\u001b[0m\u001b[1;33m(\u001b[0m\u001b[1;33m)\u001b[0m\u001b[1;33m\u001b[0m\u001b[1;33m\u001b[0m\u001b[0m\n\u001b[0;32m      9\u001b[0m \u001b[1;33m\u001b[0m\u001b[0m\n\u001b[1;32m---> 10\u001b[1;33m \u001b[0mobj\u001b[0m\u001b[1;33m.\u001b[0m\u001b[0mluke\u001b[0m \u001b[1;33m=\u001b[0m \u001b[1;34m'the chosen too'\u001b[0m\u001b[1;33m\u001b[0m\u001b[1;33m\u001b[0m\u001b[0m\n\u001b[0m",
      "\u001b[1;31mAttributeError\u001b[0m: 'Class' object has no attribute 'luke'"
     ]
    }
   ],
   "source": [
    "class Class:\n",
    "    __slots__ = ['anakin']\n",
    "    \n",
    "    def __init__(self):\n",
    "        self.anakin = 'the chosen one'\n",
    "        \n",
    "\n",
    "obj = Class()\n",
    "\n",
    "obj.luke = 'the chosen too'"
   ]
  },
  {
   "cell_type": "markdown",
   "metadata": {},
   "source": [
    "#### Конструкция __slots__ реализуется с помощью определения дескрипторов для каждого из атрибутов."
   ]
  },
  {
   "cell_type": "markdown",
   "metadata": {},
   "source": [
    "# Метаклассы"
   ]
  },
  {
   "cell_type": "markdown",
   "metadata": {},
   "source": [
    "#### Как вы уже знаете, всё в Python-е является объектом, и классы не исключение, а значит, эти классы кто-то создаёт. Давайте определим класс с названием Class и его объект. Тип нашего объекта является Class, потому что Class создал наш объект:"
   ]
  },
  {
   "cell_type": "code",
   "execution_count": 58,
   "metadata": {},
   "outputs": [
    {
     "data": {
      "text/plain": [
       "__main__.Class"
      ]
     },
     "execution_count": 58,
     "metadata": {},
     "output_type": "execute_result"
    }
   ],
   "source": [
    "class Class:\n",
    "    pass\n",
    "\n",
    "\n",
    "obj = Class()\n",
    "\n",
    "type(obj)"
   ]
  },
  {
   "cell_type": "markdown",
   "metadata": {},
   "source": [
    "#### Однако, у класса тоже есть тип — type, потому что type, создал наш класс. В данном случае type, является метаклассом, т.е. он создаёт другие классы:"
   ]
  },
  {
   "cell_type": "code",
   "execution_count": 59,
   "metadata": {},
   "outputs": [
    {
     "data": {
      "text/plain": [
       "type"
      ]
     },
     "execution_count": 59,
     "metadata": {},
     "output_type": "execute_result"
    }
   ],
   "source": [
    "type(Class)"
   ]
  },
  {
   "cell_type": "markdown",
   "metadata": {},
   "source": [
    "#### Типом самого type, кстати, является он сам. Это рекурсивное замыкание, которое реализовано внутри Python с помощью С"
   ]
  },
  {
   "cell_type": "code",
   "execution_count": 60,
   "metadata": {},
   "outputs": [
    {
     "data": {
      "text/plain": [
       "type"
      ]
     },
     "execution_count": 60,
     "metadata": {},
     "output_type": "execute_result"
    }
   ],
   "source": [
    "type(type)"
   ]
  },
  {
   "cell_type": "markdown",
   "metadata": {},
   "source": [
    "#### Очень важно понимать разницу между созданием и наследованием. В данном случае класс не является subclass-ом type. Type его создаёт, но класс не наследуется от него, а наследуется от класса object:"
   ]
  },
  {
   "cell_type": "code",
   "execution_count": 61,
   "metadata": {},
   "outputs": [
    {
     "data": {
      "text/plain": [
       "False"
      ]
     },
     "execution_count": 61,
     "metadata": {},
     "output_type": "execute_result"
    }
   ],
   "source": [
    "issubclass(Class, type)"
   ]
  },
  {
   "cell_type": "code",
   "execution_count": 62,
   "metadata": {},
   "outputs": [
    {
     "data": {
      "text/plain": [
       "True"
      ]
     },
     "execution_count": 62,
     "metadata": {},
     "output_type": "execute_result"
    }
   ],
   "source": [
    "issubclass(Class, object)"
   ]
  },
  {
   "cell_type": "markdown",
   "metadata": {},
   "source": [
    "#### Чтобы понять, как задаются классы, можно написать простую функцию, которая возвращает класс. В следующем примере мы определяем функцию, которая возвращает класс dummy_factory. Классы можно создавать на лету, и в данном случае мы создаём два разных объекта и возвращаем их"
   ]
  },
  {
   "cell_type": "code",
   "execution_count": 63,
   "metadata": {},
   "outputs": [
    {
     "name": "stdout",
     "output_type": "stream",
     "text": [
      "False\n"
     ]
    }
   ],
   "source": [
    "def dummy_factory():\n",
    "    class Class:\n",
    "        pass\n",
    "    \n",
    "    return Class\n",
    "\n",
    "\n",
    "Dummy = dummy_factory()\n",
    "\n",
    "print(Dummy() is Dummy())"
   ]
  },
  {
   "cell_type": "markdown",
   "metadata": {},
   "source": [
    "#### Однако на самом деле, Python работает не так. Для создания классов используется метакласс type, и вы можете на лету создать класс, вызвав type и передав ему название класса. Для примера создадим класс NewClass без родителей и атрибутов. Это настоящий класс, мы создали его на лету без использования литерала class:"
   ]
  },
  {
   "cell_type": "code",
   "execution_count": 64,
   "metadata": {},
   "outputs": [
    {
     "name": "stdout",
     "output_type": "stream",
     "text": [
      "<class '__main__.NewClass'>\n",
      "<__main__.NewClass object at 0x0000025D0DEAE0D0>\n"
     ]
    }
   ],
   "source": [
    "NewClass = type('NewClass', (), {})\n",
    "\n",
    "print(NewClass)\n",
    "print(NewClass())"
   ]
  },
  {
   "cell_type": "markdown",
   "metadata": {},
   "source": [
    "#### Чаще всего классы создаются с помощью метаклассов. Давайте определим свой собственный метакласс Meta, который будет управлять поведением при создании класса. Для того чтобы он бы метаклассом, он должен наследоваться от другого метакласса (type). Метод метакласса __new__ принимает название класса, его родителей и атрибуты. Мы можем определить новый класс A и указать, что его метаклассом является Meta. Именно этот метакласс и будет управлять поведением при создании нового класса. Таким образом, мы можем переопределить поведение при создании класса (например, добавить ему атрибут или сделать что-нибудь другое):"
   ]
  },
  {
   "cell_type": "code",
   "execution_count": 65,
   "metadata": {},
   "outputs": [
    {
     "name": "stdout",
     "output_type": "stream",
     "text": [
      "Creating A\n"
     ]
    }
   ],
   "source": [
    "class Meta(type):\n",
    "    def __new__(cls, name, parents, attrs):\n",
    "        print('Creating {}'.format(name))\n",
    "        \n",
    "        if 'class_id' not in attrs:\n",
    "            attrs['class_id'] = name.lower()\n",
    "            \n",
    "        return super().__new__(cls, name, parents, attrs)\n",
    "\n",
    "\n",
    "class A(metaclass=Meta):\n",
    "    pass"
   ]
  },
  {
   "cell_type": "code",
   "execution_count": 66,
   "metadata": {},
   "outputs": [
    {
     "name": "stdout",
     "output_type": "stream",
     "text": [
      "A.class_id: \"a\"\n"
     ]
    }
   ],
   "source": [
    "print('A.class_id: \"{}\"'.format(A.class_id))"
   ]
  },
  {
   "cell_type": "markdown",
   "metadata": {},
   "source": [
    "#### Например, мы можем определить метакласс, который переопределяет функцию __init__, и тогда каждый класс, созданный этим метаклассом, будет запоминать все созданные подклассы. Новый __init__ записывает свой собственный атрибут, в котором будет храниться словарь созданных классов. В следующем примере у нас вначале создаётся класс Base, метаклассом которого является Meta, и у него создаётся атрибут класса registry, в который мы будем записывать все его подклассы. Каждый раз, когда у нас создаётся какой-то класс, который наследуется от Base, мы записываем в registry соответствующее значение, то есть название созданного класса и ссылку на него:"
   ]
  },
  {
   "cell_type": "code",
   "execution_count": 67,
   "metadata": {},
   "outputs": [
    {
     "name": "stdout",
     "output_type": "stream",
     "text": [
      "Initializing — Base\n",
      "Initializing — A\n",
      "Initializing — B\n"
     ]
    }
   ],
   "source": [
    "class Meta(type):\n",
    "    def __init__(cls, name, bases, attrs):\n",
    "        print('Initializing — {}'.format(name))\n",
    "        \n",
    "        if not hasattr(cls, 'registry'):\n",
    "            cls.registry = {}\n",
    "        else:\n",
    "            cls.registry[name.lower()] = cls\n",
    "        \n",
    "        super().__init__(name, bases, attrs)\n",
    "\n",
    "\n",
    "class Base(metaclass=Meta): pass\n",
    "\n",
    "class A(Base): pass\n",
    "\n",
    "class B(Base): pass"
   ]
  },
  {
   "cell_type": "code",
   "execution_count": 68,
   "metadata": {},
   "outputs": [
    {
     "name": "stdout",
     "output_type": "stream",
     "text": [
      "{'a': <class '__main__.A'>, 'b': <class '__main__.B'>}\n",
      "[<class '__main__.A'>, <class '__main__.B'>]\n"
     ]
    }
   ],
   "source": [
    "print(Base.registry)\n",
    "print(Base.__subclasses__())"
   ]
  },
  {
   "cell_type": "markdown",
   "metadata": {},
   "source": [
    "#### Очень часто при работе с объектно-ориентированной парадигмой в Python-е возникают вопросы про абстрактные методы, потому что они являются центральным понятием, например, в языке программирования C++. В Python-е абстрактные методы реализованы в стандартной библиотеки abc. Здесь также работают метаклассы — они могут создать абстрактный класс с методом @abstractmethod. Декоратор @abstractmethod гарантирует, что у нас не получится создать класс-наследник, не определив этот метод — мы обязаны его переопределить в классе, который наследуется от нашего класса. В следующем примере Child не переопределяет метод send, и поэтому вызывается ошибка:"
   ]
  },
  {
   "cell_type": "code",
   "execution_count": 69,
   "metadata": {},
   "outputs": [
    {
     "ename": "TypeError",
     "evalue": "Can't instantiate abstract class Child with abstract methods send",
     "output_type": "error",
     "traceback": [
      "\u001b[1;31m---------------------------------------------------------------------------\u001b[0m",
      "\u001b[1;31mTypeError\u001b[0m                                 Traceback (most recent call last)",
      "\u001b[1;32m<ipython-input-69-76442a0dc869>\u001b[0m in \u001b[0;36m<module>\u001b[1;34m\u001b[0m\n\u001b[0;32m      9\u001b[0m \u001b[1;32mclass\u001b[0m \u001b[0mChild\u001b[0m\u001b[1;33m(\u001b[0m\u001b[0mSender\u001b[0m\u001b[1;33m)\u001b[0m\u001b[1;33m:\u001b[0m \u001b[1;32mpass\u001b[0m\u001b[1;33m\u001b[0m\u001b[1;33m\u001b[0m\u001b[0m\n\u001b[0;32m     10\u001b[0m \u001b[1;33m\u001b[0m\u001b[0m\n\u001b[1;32m---> 11\u001b[1;33m \u001b[0mChild\u001b[0m\u001b[1;33m(\u001b[0m\u001b[1;33m)\u001b[0m\u001b[1;33m\u001b[0m\u001b[1;33m\u001b[0m\u001b[0m\n\u001b[0m",
      "\u001b[1;31mTypeError\u001b[0m: Can't instantiate abstract class Child with abstract methods send"
     ]
    }
   ],
   "source": [
    "from abc import ABCMeta, abstractmethod\n",
    "\n",
    "class Sender(metaclass=ABCMeta):\n",
    "    @abstractmethod\n",
    "    def send(self):\n",
    "        \"\"\"Do something\"\"\"\n",
    "\n",
    "\n",
    "class Child(Sender): pass\n",
    "\n",
    "Child()"
   ]
  },
  {
   "cell_type": "markdown",
   "metadata": {},
   "source": [
    "#### Переопределим метод send, и программа будет работать:"
   ]
  },
  {
   "cell_type": "code",
   "execution_count": 70,
   "metadata": {},
   "outputs": [
    {
     "data": {
      "text/plain": [
       "<__main__.Child at 0x25d0debfee0>"
      ]
     },
     "execution_count": 70,
     "metadata": {},
     "output_type": "execute_result"
    }
   ],
   "source": [
    "class Child(Sender):\n",
    "    def send(self):\n",
    "        print('Sending')\n",
    "\n",
    "Child()"
   ]
  },
  {
   "cell_type": "markdown",
   "metadata": {},
   "source": [
    "#### На самом деле, абстрактные методы используются в Python-е довольно редко, чаще всего вызывается исключение NotImplementedError, которое говорит о том, что этот метод нужно реализовать. Программист видит в определении класса, что в методе вызывается raise NotImplementedError, и понимает, что этот метод нужно переопределить в потомке:"
   ]
  },
  {
   "cell_type": "code",
   "execution_count": 71,
   "metadata": {},
   "outputs": [],
   "source": [
    "class PythonWay:\n",
    "    def send(self):\n",
    "        raise NotImplementedError"
   ]
  }
 ],
 "metadata": {
  "kernelspec": {
   "display_name": "Python 3",
   "language": "python",
   "name": "python3"
  },
  "language_info": {
   "codemirror_mode": {
    "name": "ipython",
    "version": 3
   },
   "file_extension": ".py",
   "mimetype": "text/x-python",
   "name": "python",
   "nbconvert_exporter": "python",
   "pygments_lexer": "ipython3",
   "version": "3.8.3"
  }
 },
 "nbformat": 4,
 "nbformat_minor": 4
}
