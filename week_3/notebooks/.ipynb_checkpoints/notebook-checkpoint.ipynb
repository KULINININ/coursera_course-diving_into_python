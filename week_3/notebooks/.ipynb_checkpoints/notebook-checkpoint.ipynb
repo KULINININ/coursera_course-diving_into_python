{
 "cells": [
  {
   "cell_type": "markdown",
   "metadata": {},
   "source": [
    "# Классы и экземпляры. Часть 1"
   ]
  },
  {
   "cell_type": "markdown",
   "metadata": {},
   "source": [
    "#### Типы данных (такие как int, float и др.) в Python являются классами, структуры данных (dict, list, …) --- это также классы."
   ]
  },
  {
   "cell_type": "code",
   "execution_count": 1,
   "metadata": {},
   "outputs": [
    {
     "name": "stdout",
     "output_type": "stream",
     "text": [
      "<class 'int'>\n",
      "<class 'dict'>\n"
     ]
    }
   ],
   "source": [
    "print(int)\n",
    "print(dict)"
   ]
  },
  {
   "cell_type": "markdown",
   "metadata": {},
   "source": [
    "#### Для того, что узнать, принадлежит ли объект к определённому типу (т.е. классу), существует стандартная функция isinstance:"
   ]
  },
  {
   "cell_type": "code",
   "execution_count": 2,
   "metadata": {
    "scrolled": true
   },
   "outputs": [
    {
     "data": {
      "text/plain": [
       "True"
      ]
     },
     "execution_count": 2,
     "metadata": {},
     "output_type": "execute_result"
    }
   ],
   "source": [
    "num = 13\n",
    "isinstance(num, int)"
   ]
  },
  {
   "cell_type": "code",
   "execution_count": 3,
   "metadata": {},
   "outputs": [
    {
     "data": {
      "text/plain": [
       "True"
      ]
     },
     "execution_count": 3,
     "metadata": {},
     "output_type": "execute_result"
    }
   ],
   "source": [
    "numbers = {}\n",
    "isinstance(numbers, dict)"
   ]
  },
  {
   "cell_type": "markdown",
   "metadata": {},
   "source": [
    "#### Итак, классы есть в стандартной библиотеке Python, но также пользователь может реализовывать собственные классы. Это делается с помощью ключевого слова class. (Классы в Python принято называть CamelCase-ом.) После этого ставится двоеточие и дальшеидет блок пространства имен класса. Посмотрим на примере простейшего класса, который ничего не делает:"
   ]
  },
  {
   "cell_type": "code",
   "execution_count": 4,
   "metadata": {},
   "outputs": [],
   "source": [
    "class Human:\n",
    "    pass"
   ]
  },
  {
   "cell_type": "markdown",
   "metadata": {},
   "source": [
    "#### Вместо слова pass можем вставить docstring:"
   ]
  },
  {
   "cell_type": "code",
   "execution_count": 5,
   "metadata": {
    "scrolled": false
   },
   "outputs": [],
   "source": [
    "class Robot:\n",
    "    \"\"\"Данный класс позволяет создавать роботов\"\"\""
   ]
  },
  {
   "cell_type": "code",
   "execution_count": 6,
   "metadata": {},
   "outputs": [
    {
     "name": "stdout",
     "output_type": "stream",
     "text": [
      "<class '__main__.Robot'>\n"
     ]
    }
   ],
   "source": [
    "print(Robot)"
   ]
  },
  {
   "cell_type": "markdown",
   "metadata": {},
   "source": [
    "#### Посмотрим, какие методы есть у созданного объекта (и увидим, что их достаточно много):"
   ]
  },
  {
   "cell_type": "code",
   "execution_count": 7,
   "metadata": {},
   "outputs": [
    {
     "name": "stdout",
     "output_type": "stream",
     "text": [
      "['__class__', '__delattr__', '__dict__', '__dir__', '__doc__', '__eq__', '__format__', '__ge__', '__getattribute__', '__gt__', '__hash__', '__init__', '__init_subclass__', '__le__', '__lt__', '__module__', '__ne__', '__new__', '__reduce__', '__reduce_ex__', '__repr__', '__setattr__', '__sizeof__', '__str__', '__subclasshook__', '__weakref__']\n"
     ]
    }
   ],
   "source": [
    "print(dir(Robot))"
   ]
  },
  {
   "cell_type": "markdown",
   "metadata": {},
   "source": [
    "#### Предположим, что наш класс описывает планету (причём любую, абстрактную планету). Экземплярами класса будут являться конкретные планеты --- Земля, Марс и т.д."
   ]
  },
  {
   "cell_type": "code",
   "execution_count": 8,
   "metadata": {},
   "outputs": [],
   "source": [
    "class Planet:\n",
    "    pass"
   ]
  },
  {
   "cell_type": "markdown",
   "metadata": {},
   "source": [
    "#### Для того, чтобы создать экземпляр класса, обращаются к имени класса с помощью ():"
   ]
  },
  {
   "cell_type": "code",
   "execution_count": 9,
   "metadata": {},
   "outputs": [
    {
     "name": "stdout",
     "output_type": "stream",
     "text": [
      "<__main__.Planet object at 0x000002233B183250>\n"
     ]
    }
   ],
   "source": [
    "planet = Planet()\n",
    "print(planet)"
   ]
  },
  {
   "cell_type": "markdown",
   "metadata": {},
   "source": [
    "#### Мы получили не просто класс, а объект этого класса. Но ничто не мешает нам оперировать с классами как с объектами, так как всё в Python есть объект. Давайте с помощью небольшого скрипта промоделируем создание Солнечной системы:"
   ]
  },
  {
   "cell_type": "code",
   "execution_count": 10,
   "metadata": {},
   "outputs": [
    {
     "name": "stdout",
     "output_type": "stream",
     "text": [
      "[<__main__.Planet object at 0x000002233B183160>, <__main__.Planet object at 0x000002233B183250>, <__main__.Planet object at 0x000002233B183F10>, <__main__.Planet object at 0x000002233B183280>, <__main__.Planet object at 0x000002233B183EE0>, <__main__.Planet object at 0x000002233B183F40>, <__main__.Planet object at 0x000002233B1834C0>, <__main__.Planet object at 0x000002233B183820>]\n"
     ]
    }
   ],
   "source": [
    "solar_system = []\n",
    "for i in range(8):\n",
    "    planet = Planet()\n",
    "    solar_system.append(planet)\n",
    "    \n",
    "print(solar_system)"
   ]
  },
  {
   "cell_type": "markdown",
   "metadata": {},
   "source": [
    "#### Важно отметить, что экземпляры класса --- это хэшируемые объекты (могут быть ключами словаря). Например, исправим предыдущий пример так, чтобы экземпляры класса Planet стали ключами словаря:"
   ]
  },
  {
   "cell_type": "code",
   "execution_count": 11,
   "metadata": {},
   "outputs": [
    {
     "name": "stdout",
     "output_type": "stream",
     "text": [
      "{<__main__.Planet object at 0x000002233B183C70>: True, <__main__.Planet object at 0x000002233B183820>: True, <__main__.Planet object at 0x000002233B183CD0>: True, <__main__.Planet object at 0x000002233B183F10>: True, <__main__.Planet object at 0x000002233B183280>: True, <__main__.Planet object at 0x000002233B183EE0>: True, <__main__.Planet object at 0x000002233B183F40>: True, <__main__.Planet object at 0x000002233B1834C0>: True}\n"
     ]
    }
   ],
   "source": [
    "solar_system = {}\n",
    "for i in range(8):\n",
    "    planet = Planet()\n",
    "    solar_system[planet] = True\n",
    "\n",
    "print(solar_system)"
   ]
  },
  {
   "cell_type": "markdown",
   "metadata": {},
   "source": [
    "#### Чтобы назвать планеты нашей Солнечной системы, мы будем использовать один из магических методов класса --- метод __init__. Этот метод вызывается автоматически при создании экземпляра класса. Первым аргументом метод __init__ принимает ссылку на только что созданный экземпляр класса, далее могут идти другие аргументы. Внутриинициализатора мы можем по ссылке self установить так называемые атрибуты экземпляра. В данном случае мы ставим атрибут экземпляра name и присваиваем ему аргумент name --- имя планеты:"
   ]
  },
  {
   "cell_type": "code",
   "execution_count": 12,
   "metadata": {},
   "outputs": [],
   "source": [
    "class Planet:\n",
    "    \n",
    "    def __init__(self, name):\n",
    "        self.name = name"
   ]
  },
  {
   "cell_type": "markdown",
   "metadata": {},
   "source": [
    "#### Мы можем обратиться к атрибуту класса, написав его через точку после названия экземпляра:"
   ]
  },
  {
   "cell_type": "code",
   "execution_count": 13,
   "metadata": {},
   "outputs": [
    {
     "name": "stdout",
     "output_type": "stream",
     "text": [
      "Earth\n",
      "<__main__.Planet object at 0x000002233B1CE190>\n"
     ]
    }
   ],
   "source": [
    "earth = Planet(\"Earth\")\n",
    "print(earth.name)\n",
    "print(earth)"
   ]
  },
  {
   "cell_type": "markdown",
   "metadata": {},
   "source": [
    "#### Можно сделать так, чтобы print(earth) печатал имя планеты. Для этого есть магический метод __str__, позволяющий переопределить то, как будет печататься объект:"
   ]
  },
  {
   "cell_type": "code",
   "execution_count": 14,
   "metadata": {},
   "outputs": [
    {
     "name": "stdout",
     "output_type": "stream",
     "text": [
      "Earth\n"
     ]
    }
   ],
   "source": [
    "class Planet:\n",
    "    \n",
    "    def __init__(self, name):\n",
    "        self.name = name\n",
    "        \n",
    "    def __str__(self):\n",
    "        return self.name\n",
    "    \n",
    "\n",
    "earth = Planet(\"Earth\")\n",
    "print(earth)"
   ]
  },
  {
   "cell_type": "markdown",
   "metadata": {},
   "source": [
    "#### Давайте назовём все планеты солнечной системы:"
   ]
  },
  {
   "cell_type": "code",
   "execution_count": 15,
   "metadata": {},
   "outputs": [
    {
     "name": "stdout",
     "output_type": "stream",
     "text": [
      "[<__main__.Planet object at 0x000002233B183EE0>, <__main__.Planet object at 0x000002233B1834C0>, <__main__.Planet object at 0x000002233B183C70>, <__main__.Planet object at 0x000002233B1CEEE0>, <__main__.Planet object at 0x000002233B1CEF70>, <__main__.Planet object at 0x000002233B1CEC10>, <__main__.Planet object at 0x000002233B1CE850>, <__main__.Planet object at 0x000002233B1CE970>]\n"
     ]
    }
   ],
   "source": [
    "solar_system = []\n",
    "\n",
    "planet_names = [\n",
    "    \"Mercury\", \"Venus\", \"Earth\", \"Mars\", \n",
    "    \"Jupiter\", \"Saturn\", \"Uranus\", \"Neptune\"\n",
    "]\n",
    "\n",
    "for name in planet_names:\n",
    "    planet = Planet(name)\n",
    "    solar_system.append(planet)\n",
    "    \n",
    "print(solar_system)"
   ]
  },
  {
   "cell_type": "markdown",
   "metadata": {},
   "source": [
    "#### Несмотря на то, что мы переопределили метод __str__, внутри списка мы видим объекты в старом представлении. Чтобы отображать объекты в списке, Python использует другой магический метод --- __repr__, который мы тоже можем переопределить:"
   ]
  },
  {
   "cell_type": "code",
   "execution_count": 16,
   "metadata": {},
   "outputs": [
    {
     "name": "stdout",
     "output_type": "stream",
     "text": [
      "[Planet Mercury, Planet Venus, Planet Earth, Planet Mars, Planet Jupiter, Planet Saturn, Planet Uranus, Planet Neptune]\n"
     ]
    }
   ],
   "source": [
    "class Planet:\n",
    "    \n",
    "    def __init__(self, name):\n",
    "        self.name = name\n",
    "        \n",
    "    def __repr__(self):\n",
    "        return f\"Planet {self.name}\"\n",
    "    \n",
    "\n",
    "solar_system = []\n",
    "\n",
    "planet_names = [\n",
    "    \"Mercury\", \"Venus\", \"Earth\", \"Mars\", \n",
    "    \"Jupiter\", \"Saturn\", \"Uranus\", \"Neptune\"\n",
    "]\n",
    "\n",
    "for name in planet_names:\n",
    "    planet = Planet(name)\n",
    "    solar_system.append(planet)\n",
    "    \n",
    "print(solar_system)"
   ]
  },
  {
   "cell_type": "markdown",
   "metadata": {},
   "source": [
    "#### Существует огромное множество других магических методов классов, про некоторые из которых мы поговорим позже. Есть возможность в любой момент поменять значение атрибута класса:"
   ]
  },
  {
   "cell_type": "code",
   "execution_count": 17,
   "metadata": {},
   "outputs": [
    {
     "name": "stdout",
     "output_type": "stream",
     "text": [
      "Planet Mars\n"
     ]
    }
   ],
   "source": [
    "mars = Planet(\"Mars\")\n",
    "print(mars)"
   ]
  },
  {
   "cell_type": "code",
   "execution_count": 18,
   "metadata": {},
   "outputs": [
    {
     "data": {
      "text/plain": [
       "'Mars'"
      ]
     },
     "execution_count": 18,
     "metadata": {},
     "output_type": "execute_result"
    }
   ],
   "source": [
    "mars.name"
   ]
  },
  {
   "cell_type": "code",
   "execution_count": 19,
   "metadata": {},
   "outputs": [
    {
     "data": {
      "text/plain": [
       "'Second Earth?'"
      ]
     },
     "execution_count": 19,
     "metadata": {},
     "output_type": "execute_result"
    }
   ],
   "source": [
    "mars.name = \"Second Earth?\"\n",
    "mars.name"
   ]
  },
  {
   "cell_type": "markdown",
   "metadata": {},
   "source": [
    "#### Если обратиться к несуществующему атрибуту экземпляра, Python выдаст исключение AttributeError."
   ]
  },
  {
   "cell_type": "code",
   "execution_count": 20,
   "metadata": {},
   "outputs": [
    {
     "ename": "AttributeError",
     "evalue": "'Planet' object has no attribute 'mass'",
     "output_type": "error",
     "traceback": [
      "\u001b[1;31m---------------------------------------------------------------------------\u001b[0m",
      "\u001b[1;31mAttributeError\u001b[0m                            Traceback (most recent call last)",
      "\u001b[1;32m<ipython-input-20-318658eaebb0>\u001b[0m in \u001b[0;36m<module>\u001b[1;34m\u001b[0m\n\u001b[1;32m----> 1\u001b[1;33m \u001b[0mmars\u001b[0m\u001b[1;33m.\u001b[0m\u001b[0mmass\u001b[0m\u001b[1;33m\u001b[0m\u001b[1;33m\u001b[0m\u001b[0m\n\u001b[0m",
      "\u001b[1;31mAttributeError\u001b[0m: 'Planet' object has no attribute 'mass'"
     ]
    }
   ],
   "source": [
    "mars.mass"
   ]
  },
  {
   "cell_type": "markdown",
   "metadata": {},
   "source": [
    "#### Кроме того, мы можем удалить атрибут из нашего экземпляра класса:"
   ]
  },
  {
   "cell_type": "code",
   "execution_count": 21,
   "metadata": {},
   "outputs": [
    {
     "ename": "AttributeError",
     "evalue": "'Planet' object has no attribute 'name'",
     "output_type": "error",
     "traceback": [
      "\u001b[1;31m---------------------------------------------------------------------------\u001b[0m",
      "\u001b[1;31mAttributeError\u001b[0m                            Traceback (most recent call last)",
      "\u001b[1;32m<ipython-input-21-d242dad71cc0>\u001b[0m in \u001b[0;36m<module>\u001b[1;34m\u001b[0m\n\u001b[0;32m      1\u001b[0m \u001b[1;32mdel\u001b[0m \u001b[0mmars\u001b[0m\u001b[1;33m.\u001b[0m\u001b[0mname\u001b[0m\u001b[1;33m\u001b[0m\u001b[1;33m\u001b[0m\u001b[0m\n\u001b[0;32m      2\u001b[0m \u001b[1;33m\u001b[0m\u001b[0m\n\u001b[1;32m----> 3\u001b[1;33m \u001b[0mmars\u001b[0m\u001b[1;33m.\u001b[0m\u001b[0mname\u001b[0m\u001b[1;33m\u001b[0m\u001b[1;33m\u001b[0m\u001b[0m\n\u001b[0m",
      "\u001b[1;31mAttributeError\u001b[0m: 'Planet' object has no attribute 'name'"
     ]
    }
   ],
   "source": [
    "del mars.name\n",
    "\n",
    "mars.name"
   ]
  },
  {
   "cell_type": "markdown",
   "metadata": {},
   "source": [
    "# Классы и экземпляры. Часть 2"
   ]
  },
  {
   "cell_type": "markdown",
   "metadata": {},
   "source": [
    "#### Иногда нужно создать переменную, которая будет работать в контексте класса, но не будет связана с каждым конкретным экземпляром (т.е. будет относиться непосредственно ксамому классу, а не к экземпляру). В этом примере count (счётчик планет) --- это атрибут класса:"
   ]
  },
  {
   "cell_type": "code",
   "execution_count": 22,
   "metadata": {},
   "outputs": [],
   "source": [
    "class Planet:\n",
    "    \n",
    "    count = 0\n",
    "    \n",
    "    def __init__(self, name, population=None):\n",
    "        self.name = name\n",
    "        self.population = population or []\n",
    "        Planet.count += 1"
   ]
  },
  {
   "cell_type": "markdown",
   "metadata": {},
   "source": [
    "#### Можем напрямую обратиться к атрибуту класса через точку:"
   ]
  },
  {
   "cell_type": "code",
   "execution_count": 23,
   "metadata": {},
   "outputs": [
    {
     "name": "stdout",
     "output_type": "stream",
     "text": [
      "2\n"
     ]
    }
   ],
   "source": [
    "earth = Planet(\"Earth\")\n",
    "mars = Planet(\"Mars\")\n",
    "\n",
    "print(Planet.count)"
   ]
  },
  {
   "cell_type": "markdown",
   "metadata": {},
   "source": [
    "#### Значение атрибута класса также можно получить, обращаясь к экземплярам:"
   ]
  },
  {
   "cell_type": "code",
   "execution_count": 24,
   "metadata": {},
   "outputs": [
    {
     "data": {
      "text/plain": [
       "2"
      ]
     },
     "execution_count": 24,
     "metadata": {},
     "output_type": "execute_result"
    }
   ],
   "source": [
    "mars.count"
   ]
  },
  {
   "cell_type": "markdown",
   "metadata": {},
   "source": [
    "#### В этот момент Python видит, что внутри экземпляра класса такого атрибута нет, проверяет сам класс на наличие атрибута и находит его."
   ]
  },
  {
   "cell_type": "markdown",
   "metadata": {},
   "source": [
    "#### Когда счетчик ссылок на экземпляр класса достигает нуля (мы уже говорили про сборщик мусора в Python и то, что он использует счетчик ссылок), вызывается метод __del__экземпляра. Это также магический метод, который Python нам предоставляет возможность переопределить:"
   ]
  },
  {
   "cell_type": "code",
   "execution_count": 25,
   "metadata": {},
   "outputs": [
    {
     "name": "stdout",
     "output_type": "stream",
     "text": [
      "Goodbye!\n"
     ]
    }
   ],
   "source": [
    "class Human:\n",
    "    \n",
    "    def __del__(self):\n",
    "        print(\"Goodbye!\")\n",
    "        \n",
    "human = Human()\n",
    "\n",
    "del human"
   ]
  },
  {
   "cell_type": "markdown",
   "metadata": {},
   "source": [
    "#### Однако, на практике магический метод __del__ рекомендуют не переопределять, так как нет гарантии, что по завершении работы интерпретатора Python он будет вызван. Лучше явно определить метод, который будет выполнять те действия, которые вам нужны (закрыть файл, разорвать сетевое соединение и т.д.)."
   ]
  },
  {
   "cell_type": "markdown",
   "metadata": {},
   "source": [
    "#### Открыть словарь с атрибутами класса можно с помощь метода __dict__:"
   ]
  },
  {
   "cell_type": "code",
   "execution_count": 26,
   "metadata": {
    "scrolled": true
   },
   "outputs": [
    {
     "data": {
      "text/plain": [
       "{'name': 'Earth', 'population': []}"
      ]
     },
     "execution_count": 26,
     "metadata": {},
     "output_type": "execute_result"
    }
   ],
   "source": [
    "class Planet:\n",
    "    \"\"\"This class describes planets\"\"\"\n",
    "    \n",
    "    count = 1\n",
    "    \n",
    "    def __init__(self, name, population=None):\n",
    "        self.name = name\n",
    "        self.population = population or []\n",
    "\n",
    "        \n",
    "planet = Planet(\"Earth\")\n",
    "\n",
    "planet.__dict__"
   ]
  },
  {
   "cell_type": "markdown",
   "metadata": {},
   "source": [
    "#### Если мы добавим нашему экземпляру какой-нибудь атрибут, он появится в словаре атрибутов этого экземпляра:"
   ]
  },
  {
   "cell_type": "code",
   "execution_count": 27,
   "metadata": {},
   "outputs": [
    {
     "data": {
      "text/plain": [
       "{'name': 'Earth', 'population': [], 'mass': 5.97e+24}"
      ]
     },
     "execution_count": 27,
     "metadata": {},
     "output_type": "execute_result"
    }
   ],
   "source": [
    "planet.mass = 5.97e24\n",
    "\n",
    "planet.__dict__"
   ]
  },
  {
   "cell_type": "markdown",
   "metadata": {},
   "source": [
    "#### Словарь атрибутов есть также и у самого класса (обратите внимание на атрибуты __doc__ и count):"
   ]
  },
  {
   "cell_type": "code",
   "execution_count": 28,
   "metadata": {},
   "outputs": [
    {
     "data": {
      "text/plain": [
       "mappingproxy({'__module__': '__main__',\n",
       "              '__doc__': 'This class describes planets',\n",
       "              'count': 1,\n",
       "              '__init__': <function __main__.Planet.__init__(self, name, population=None)>,\n",
       "              '__dict__': <attribute '__dict__' of 'Planet' objects>,\n",
       "              '__weakref__': <attribute '__weakref__' of 'Planet' objects>})"
      ]
     },
     "execution_count": 28,
     "metadata": {},
     "output_type": "execute_result"
    }
   ],
   "source": [
    "Planet.__dict__"
   ]
  },
  {
   "cell_type": "markdown",
   "metadata": {},
   "source": [
    "#### К элементам из словаря атрибутов класса можно обращаться как через имя класса, так и через имя какого-нибудь экземпляра этого класса:"
   ]
  },
  {
   "cell_type": "code",
   "execution_count": 29,
   "metadata": {},
   "outputs": [
    {
     "data": {
      "text/plain": [
       "'This class describes planets'"
      ]
     },
     "execution_count": 29,
     "metadata": {},
     "output_type": "execute_result"
    }
   ],
   "source": [
    "Planet.__doc__"
   ]
  },
  {
   "cell_type": "code",
   "execution_count": 30,
   "metadata": {},
   "outputs": [
    {
     "data": {
      "text/plain": [
       "'This class describes planets'"
      ]
     },
     "execution_count": 30,
     "metadata": {},
     "output_type": "execute_result"
    }
   ],
   "source": [
    "planet.__doc__"
   ]
  },
  {
   "cell_type": "markdown",
   "metadata": {},
   "source": [
    "#### У экземпляра класса есть ещё много магических методов (например, метод __hash__, ведь экземпляры класса --- это хэшируемые объекты)."
   ]
  },
  {
   "cell_type": "code",
   "execution_count": 31,
   "metadata": {},
   "outputs": [
    {
     "name": "stdout",
     "output_type": "stream",
     "text": [
      "['__class__', '__delattr__', '__dict__', '__dir__', '__doc__', '__eq__', '__format__', '__ge__', '__getattribute__', '__gt__', '__hash__', '__init__', '__init_subclass__', '__le__', '__lt__', '__module__', '__ne__', '__new__', '__reduce__', '__reduce_ex__', '__repr__', '__setattr__', '__sizeof__', '__str__', '__subclasshook__', '__weakref__', 'count', 'mass', 'name', 'population']\n"
     ]
    }
   ],
   "source": [
    "print(dir(planet))"
   ]
  },
  {
   "cell_type": "markdown",
   "metadata": {},
   "source": [
    "#### В любой момент мы можем узнать, какому классу принадлежит данный экземпляр:"
   ]
  },
  {
   "cell_type": "code",
   "execution_count": 32,
   "metadata": {},
   "outputs": [
    {
     "data": {
      "text/plain": [
       "__main__.Planet"
      ]
     },
     "execution_count": 32,
     "metadata": {},
     "output_type": "execute_result"
    }
   ],
   "source": [
    "planet.__class__"
   ]
  },
  {
   "cell_type": "markdown",
   "metadata": {},
   "source": [
    "#### Конструктор экземпляра класса позволяет нам переопределить действия, которые происходят с экземпляром до его инициализации. На следующих неделях будет показан пример использования магического метода __new__, который как раз является конструктором экземпляра класса, в рамках использования метаклассов. Пока же посмотрим на простой пример класса с переопределённым методом __new__:"
   ]
  },
  {
   "cell_type": "code",
   "execution_count": 33,
   "metadata": {},
   "outputs": [
    {
     "name": "stdout",
     "output_type": "stream",
     "text": [
      "__new__ called\n",
      "__init__ called\n"
     ]
    }
   ],
   "source": [
    "class Planet:\n",
    "    \n",
    "    def __new__(cls, *args, **kwargs):\n",
    "        print(\"__new__ called\")\n",
    "        obj = super().__new__(cls)\n",
    "        return obj\n",
    "    \n",
    "    def __init__(self, name):\n",
    "        print(\"__init__ called\")\n",
    "        self.name = name\n",
    "        \n",
    "\n",
    "earth = Planet(\"Earth\")"
   ]
  },
  {
   "cell_type": "markdown",
   "metadata": {},
   "source": [
    "#### В этом примере в исходный метод __new__ был добавлен вызов print(). В следующей строке метод super() возвращает родителя нашего класса, в данном случае это object --- класс, от которого наследуются все пользовательские классы в Python 3. Затем вызывается метод __new__ класса object, который возвращает экземляр класса. Этот экземпляр (который и является нашим классом) возвращается из функции."
   ]
  },
  {
   "cell_type": "markdown",
   "metadata": {},
   "source": [
    "#### То есть при вызове Planet(\"Earth\") произошло примерно следующее:"
   ]
  },
  {
   "cell_type": "code",
   "execution_count": 34,
   "metadata": {},
   "outputs": [
    {
     "name": "stdout",
     "output_type": "stream",
     "text": [
      "__new__ called\n",
      "__init__ called\n"
     ]
    }
   ],
   "source": [
    "planet = Planet.__new__(Planet, \"Earth\")\n",
    "\n",
    "if isinstance(planet, Planet):\n",
    "    Planet.__init__(planet, \"Earth\")"
   ]
  },
  {
   "cell_type": "markdown",
   "metadata": {},
   "source": [
    "# Методы. Часть 1"
   ]
  },
  {
   "cell_type": "markdown",
   "metadata": {},
   "source": [
    "#### Методы --- это функции, которые действуют в контексте экземпляра класса. Таким образом, они могут менять состояние экземпляра, обращаясь к атрибутам экземпляра или делать любую другую полезную работу. В следующем примере мы создали класс human, у которого есть два атрибута: name и age, а также у нас есть класс планеты, у которой есть атрибут name и атрибут population (список людей, которые есть на планете):"
   ]
  },
  {
   "cell_type": "code",
   "execution_count": 39,
   "metadata": {},
   "outputs": [],
   "source": [
    "class Human:\n",
    "    \n",
    "    def __init__(self, name, age=0):\n",
    "        self.name = name\n",
    "        self.age = age\n",
    "        \n",
    "\n",
    "class Planet:\n",
    "    \n",
    "    def __init__(self, name, population=None):\n",
    "        self.name = name\n",
    "        self.population = population or []\n",
    "        \n",
    "    def add_human(self, human):\n",
    "        print(f\"Welcome to {self.name}, {human.name}!\")\n",
    "        self.population.append(human)"
   ]
  },
  {
   "cell_type": "markdown",
   "metadata": {},
   "source": [
    "#### Здесь мы объявили метод экземпляра add human --- просто функцию, которая принимает первым аргументом self (т.е. ссылку на экземпляр класса), а дальше --- любые другие аргументы (в случае выше это экземпляр класса Human). Обновим население планеты:"
   ]
  },
  {
   "cell_type": "code",
   "execution_count": 40,
   "metadata": {},
   "outputs": [
    {
     "name": "stdout",
     "output_type": "stream",
     "text": [
      "Welcome to Mars, Bob!\n"
     ]
    }
   ],
   "source": [
    "mars = Planet(\"Mars\")\n",
    "\n",
    "bob = Human(\"Bob\")\n",
    "\n",
    "mars.add_human(bob)"
   ]
  },
  {
   "cell_type": "code",
   "execution_count": 41,
   "metadata": {},
   "outputs": [
    {
     "name": "stdout",
     "output_type": "stream",
     "text": [
      "[<__main__.Human object at 0x000002233B1D5820>]\n"
     ]
    }
   ],
   "source": [
    "print(mars.population)"
   ]
  },
  {
   "cell_type": "markdown",
   "metadata": {},
   "source": [
    "#### Ничто не мешает вызывать из методов другие методы. Посмотрим на примере:"
   ]
  },
  {
   "cell_type": "code",
   "execution_count": 42,
   "metadata": {},
   "outputs": [],
   "source": [
    "class Human:\n",
    "    \n",
    "    def __init__(self, name, age=0):\n",
    "        self._name = name\n",
    "        self._age = age\n",
    "        \n",
    "    def _say(self, text):\n",
    "        print(text)\n",
    "        \n",
    "    def say_name(self):\n",
    "        self._say(f\"Hello, I am {self._name}\")\n",
    "        \n",
    "    def say_how_old(self):\n",
    "        self._say(f\"I am {self._age} years old\")"
   ]
  },
  {
   "cell_type": "markdown",
   "metadata": {},
   "source": [
    "#### Здесь объявляем класс Human, у которого названия атрибутов _name и _age начинаются с символа нижнего подчёркивания. Также у этого класса метод экземпляра _say, который также начинается с нижнего подчёркивания, а ещё два метода say_name и say_how_old, которые печатают, сколько человеку лет и какое у него имя. Символы нижнего подчёркивания показывают, что это внутренний метод, который вызывается только другими методами класса, но не должен вызываться пользователем. Такой механизм похож на private/protected атрибуты в других языках, однако в Python это всего лишь соглашение. Тем не менее, если атрибут либо метод названы c символа нижнего подчёркивания, то ими пользоваться не рекомендуется потому, что в дальнейших версиях той или иной библиотеки могут отказаться от этих атрибутов или методов, начинающихся с символа нижнего подчеркивания, либо поменять их поведение."
   ]
  },
  {
   "cell_type": "code",
   "execution_count": 44,
   "metadata": {},
   "outputs": [
    {
     "name": "stdout",
     "output_type": "stream",
     "text": [
      "Hello, I am Bob\n",
      "I am 29 years old\n"
     ]
    }
   ],
   "source": [
    "bob = Human(\"Bob\", age=29)\n",
    "\n",
    "bob.say_name()\n",
    "bob.say_how_old()"
   ]
  },
  {
   "cell_type": "code",
   "execution_count": 45,
   "metadata": {},
   "outputs": [
    {
     "name": "stdout",
     "output_type": "stream",
     "text": [
      "Bob\n",
      "Whatever we want\n"
     ]
    }
   ],
   "source": [
    "# не рекомендуется!\n",
    "print(bob._name)\n",
    "\n",
    "# не рекомендуется!\n",
    "bob._say(\"Whatever we want\")"
   ]
  },
  {
   "cell_type": "markdown",
   "metadata": {},
   "source": [
    "#### Бывает, что вам нужно объявить метод, который не привязан к конкретному экземпляру, но в тоже время вовлекает в свою работу сам класс. Для этого существует стандартный декоратор @classmethod (метод класса). Например, создадим класс, который отображает какое-нибудь событие:"
   ]
  },
  {
   "cell_type": "code",
   "execution_count": 46,
   "metadata": {},
   "outputs": [
    {
     "name": "stdout",
     "output_type": "stream",
     "text": [
      "Event \"Узнать, что такое @classmethod\" at 2020-10-09\n"
     ]
    }
   ],
   "source": [
    "class Event:\n",
    "    \n",
    "    def __init__(self, descr, event_date):\n",
    "        self.descr = descr\n",
    "        self.date = event_date\n",
    "        \n",
    "    def __str__(self):\n",
    "        return f\"Event \\\"{self.descr}\\\" at {self.date}\"\n",
    "    \n",
    "\n",
    "from datetime import date\n",
    "\n",
    "event_descr = \"Узнать, что такое @classmethod\"\n",
    "event_date = date.today()\n",
    "\n",
    "event = Event(event_descr, event_date)\n",
    "print(event)"
   ]
  },
  {
   "cell_type": "markdown",
   "metadata": {},
   "source": [
    "#### Дополним этот класс методом класса. Метод from_string извлекает из пользовательского ввода информацию о некотором событии (например, такой метод может быть полезен при написании бота для мессенджера, который заносит события в календарь). Этот метод принимает на вход первым атрибутом сам класс cls, а затем ввод пользователя. Он возвращает экземпляр класса, таким образом, это альтернативный способ создания класса."
   ]
  },
  {
   "cell_type": "code",
   "execution_count": 47,
   "metadata": {},
   "outputs": [],
   "source": [
    "class Event:\n",
    "    \n",
    "    def __init__(self, descr, event_date):\n",
    "        self.descr = descr\n",
    "        self.date = event_date\n",
    "        \n",
    "    def __str__(self):\n",
    "        return f\"Event \\\"{self.descr}\\\" at {self.date}\"\n",
    "    \n",
    "    @classmethod\n",
    "    def from_string(cls, user_input):\n",
    "        descr = extract_descr(user_input)\n",
    "        date = extract_date(user_input)\n",
    "        return cls(descr, date)"
   ]
  },
  {
   "cell_type": "markdown",
   "metadata": {},
   "source": [
    "#### Вообще, извлечение данных из сообщений --- это сложная задача. В данном примере мы используем заглушки:"
   ]
  },
  {
   "cell_type": "code",
   "execution_count": 50,
   "metadata": {},
   "outputs": [],
   "source": [
    "def extract_descr(user_string):\n",
    "    return \"открытие чемпионата мира по футболу\"\n",
    "\n",
    "\n",
    "def extract_date(user_string):\n",
    "    return date(2018, 6, 14)"
   ]
  },
  {
   "cell_type": "markdown",
   "metadata": {},
   "source": [
    "#### Протестируем:"
   ]
  },
  {
   "cell_type": "code",
   "execution_count": 51,
   "metadata": {},
   "outputs": [
    {
     "name": "stdout",
     "output_type": "stream",
     "text": [
      "Event \"открытие чемпионата мира по футболу\" at 2018-06-14\n"
     ]
    }
   ],
   "source": [
    "event = Event.from_string(\"добавить в мой календарь открытие чемпионата мира по футболу на 14 июня 2018 года\")\n",
    "print(event)"
   ]
  },
  {
   "cell_type": "markdown",
   "metadata": {},
   "source": [
    "#### Внутри стандартной библиотеки класс-методы тоже активно используются. Например, тип dict --- это класс, у которого есть метод fromkeys. fromkeys --- как раз метод класса, который принимает итерабельный объект и возвращает проинициализированный словарь:"
   ]
  },
  {
   "cell_type": "code",
   "execution_count": 52,
   "metadata": {},
   "outputs": [
    {
     "data": {
      "text/plain": [
       "{'1': None, '2': None, '3': None, '4': None, '5': None}"
      ]
     },
     "execution_count": 52,
     "metadata": {},
     "output_type": "execute_result"
    }
   ],
   "source": [
    "dict.fromkeys(\"12345\")"
   ]
  },
  {
   "cell_type": "markdown",
   "metadata": {},
   "source": [
    "# Методы. Часть 2"
   ]
  },
  {
   "cell_type": "markdown",
   "metadata": {},
   "source": [
    "#### Иногда нужно объявить метод в контексте класса, но этот метод не оперирует ни ссылкой на конкретный экземпляр класса, ни самим классом непосредственно (как в случае @classmethod). В таком случае используют статический метод (@staticmethod). Пример:"
   ]
  },
  {
   "cell_type": "code",
   "execution_count": 54,
   "metadata": {},
   "outputs": [],
   "source": [
    "class Human:\n",
    "    \n",
    "    def __init__(self, name, age=0):\n",
    "        self.name = name\n",
    "        self.age = age\n",
    "        \n",
    "    @staticmethod\n",
    "    def is_age_valid(age):\n",
    "        return 0 < age < 150"
   ]
  },
  {
   "cell_type": "markdown",
   "metadata": {},
   "source": [
    "#### У статического метода нет аргументов self или class. К статическому методу можно обращаться по-разному:"
   ]
  },
  {
   "cell_type": "code",
   "execution_count": 55,
   "metadata": {},
   "outputs": [
    {
     "data": {
      "text/plain": [
       "True"
      ]
     },
     "execution_count": 55,
     "metadata": {},
     "output_type": "execute_result"
    }
   ],
   "source": [
    "# можно обращаться от имени класса\n",
    "Human.is_age_valid(35)"
   ]
  },
  {
   "cell_type": "code",
   "execution_count": 56,
   "metadata": {},
   "outputs": [
    {
     "data": {
      "text/plain": [
       "False"
      ]
     },
     "execution_count": 56,
     "metadata": {},
     "output_type": "execute_result"
    }
   ],
   "source": [
    "# или от экземпляра:\n",
    "human = Human(\"Old Bobby\")\n",
    "human.is_age_valid(234)"
   ]
  },
  {
   "cell_type": "markdown",
   "metadata": {},
   "source": [
    "#### Функцию is_age_valid можно было объявить вне пространства имён класса. Где её объявлять --- это вопрос организации кода."
   ]
  },
  {
   "cell_type": "markdown",
   "metadata": {},
   "source": [
    "#### Ещё один важный концепт --- вычисляемые свойства класса (property). Property позволяют изменять поведение и выполнять какую-либо работу при обращении к атрибуту экземпляра, либо при изменении атрибута, либо при его удалении. Начнём немного издалека и определим класс Robot с атрибутом power:"
   ]
  },
  {
   "cell_type": "code",
   "execution_count": 57,
   "metadata": {},
   "outputs": [],
   "source": [
    "class Robot:\n",
    "    \n",
    "    def __init__(self, power):\n",
    "        self.power = power"
   ]
  },
  {
   "cell_type": "markdown",
   "metadata": {},
   "source": [
    "#### Этим можно пользоваться так:"
   ]
  },
  {
   "cell_type": "code",
   "execution_count": 58,
   "metadata": {},
   "outputs": [
    {
     "name": "stdout",
     "output_type": "stream",
     "text": [
      "200\n"
     ]
    }
   ],
   "source": [
    "wall_e = Robot(100)\n",
    "wall_e.power = 200\n",
    "print(wall_e.power)"
   ]
  },
  {
   "cell_type": "markdown",
   "metadata": {},
   "source": [
    "#### Предположим, вы заметили, что другие программисты, которые пользуются вашим классом Robot, иногда ставят ему отрицательную мощность (power):"
   ]
  },
  {
   "cell_type": "code",
   "execution_count": 59,
   "metadata": {},
   "outputs": [],
   "source": [
    "wall_e.power = -20"
   ]
  },
  {
   "cell_type": "markdown",
   "metadata": {},
   "source": [
    "#### Вам хотелось бы, чтобы в таком случае мощность на самом деле ставилась бы в ноль. Для этого можно отрефакторить класс и добавить метод экземпляра set_power, в котором и будет реализован такой функционал:"
   ]
  },
  {
   "cell_type": "code",
   "execution_count": 60,
   "metadata": {},
   "outputs": [
    {
     "name": "stdout",
     "output_type": "stream",
     "text": [
      "0\n"
     ]
    }
   ],
   "source": [
    "class Robot:\n",
    "    \n",
    "    def __init__(self, power):\n",
    "        self.power = power\n",
    "        \n",
    "    def set_power(self, power):\n",
    "        if power < 0:\n",
    "            self.power = 0\n",
    "        else:\n",
    "            self.power = power\n",
    "            \n",
    "            \n",
    "wall_e = Robot(100)\n",
    "wall_e.set_power(-20)\n",
    "print(wall_e.power)"
   ]
  },
  {
   "cell_type": "markdown",
   "metadata": {},
   "source": [
    "#### Но в таком случае не только вам, но и всем программистам, использующим ваш класс, придётся менять код. Есть способ проще --- сделать power объектом property(). Далее объявим три метода и обернём их декораторами: power.setter (будет выполняться при изменении атрибута power) power.getter (выполнится при чтении атрибута power) и power.deleter (будет выполняться при удалении атрибута):"
   ]
  },
  {
   "cell_type": "code",
   "execution_count": 63,
   "metadata": {},
   "outputs": [],
   "source": [
    "class Robot:\n",
    "    \n",
    "    def __init__(self, power):\n",
    "        self._power = power\n",
    "        \n",
    "    power = property()\n",
    "    \n",
    "    @power.setter\n",
    "    def power(self, value):\n",
    "        # Повторяет функционал старого метода set_power \n",
    "        if value < 0:\n",
    "            self._power = 0\n",
    "        else:\n",
    "            self._power = power\n",
    "            \n",
    "    @power.getter\n",
    "    def power(self):\n",
    "        return self._power\n",
    "    \n",
    "    @power.deleter\n",
    "    def power(self):\n",
    "        print(\"Make robot useless\")\n",
    "        del self._power"
   ]
  },
  {
   "cell_type": "code",
   "execution_count": 64,
   "metadata": {
    "scrolled": false
   },
   "outputs": [
    {
     "name": "stdout",
     "output_type": "stream",
     "text": [
      "0\n"
     ]
    }
   ],
   "source": [
    "wall_e = Robot(100)\n",
    "wall_e.power = -20\n",
    "print(wall_e.power)"
   ]
  },
  {
   "cell_type": "code",
   "execution_count": 65,
   "metadata": {},
   "outputs": [
    {
     "name": "stdout",
     "output_type": "stream",
     "text": [
      "Make robot useless\n"
     ]
    }
   ],
   "source": [
    "del wall_e.power"
   ]
  },
  {
   "cell_type": "markdown",
   "metadata": {},
   "source": [
    "#### Иногда единственное, что вам требуется --- это модифицировать чтение атрибута. Вам не нужно менять поведение при изменении значения атрибута/его удалении. В таком случае есть более короткая запись. Тогда можно обернуть метод декоратором @property и обращаться к нему просто с помощью .power:"
   ]
  },
  {
   "cell_type": "code",
   "execution_count": 66,
   "metadata": {},
   "outputs": [
    {
     "data": {
      "text/plain": [
       "200"
      ]
     },
     "execution_count": 66,
     "metadata": {},
     "output_type": "execute_result"
    }
   ],
   "source": [
    "class Robot:\n",
    "    \n",
    "    def __init__(self, power):\n",
    "        self._power = power\n",
    "        \n",
    "    @property\n",
    "    def power(self):\n",
    "        # Здесь могут быть любые полезные вычисления\n",
    "        return self._power\n",
    "    \n",
    "    \n",
    "wall_e = Robot(200)\n",
    "wall_e.power"
   ]
  },
  {
   "cell_type": "markdown",
   "metadata": {},
   "source": [
    "# Пример на классы"
   ]
  },
  {
   "cell_type": "code",
   "execution_count": 80,
   "metadata": {
    "scrolled": true
   },
   "outputs": [
    {
     "name": "stdout",
     "output_type": "stream",
     "text": [
      "[{'day': 1602255600, 'temp': 287.05},\n",
      " {'day': 1602266400, 'temp': 285.62},\n",
      " {'day': 1602277200, 'temp': 284.84},\n",
      " {'day': 1602288000, 'temp': 284.37},\n",
      " {'day': 1602298800, 'temp': 284.14},\n",
      " {'day': 1602309600, 'temp': 282.65},\n",
      " {'day': 1602320400, 'temp': 285.47},\n",
      " {'day': 1602331200, 'temp': 286.49},\n",
      " {'day': 1602342000, 'temp': 283.19},\n",
      " {'day': 1602352800, 'temp': 281.67},\n",
      " {'day': 1602363600, 'temp': 281.19},\n",
      " {'day': 1602374400, 'temp': 280.8},\n",
      " {'day': 1602385200, 'temp': 281.09},\n",
      " {'day': 1602396000, 'temp': 282.96},\n",
      " {'day': 1602406800, 'temp': 284.95},\n",
      " {'day': 1602417600, 'temp': 285.89},\n",
      " {'day': 1602428400, 'temp': 284.96},\n",
      " {'day': 1602439200, 'temp': 284.48},\n",
      " {'day': 1602450000, 'temp': 284.28},\n",
      " {'day': 1602460800, 'temp': 284.24},\n",
      " {'day': 1602471600, 'temp': 284.09},\n",
      " {'day': 1602482400, 'temp': 283.27},\n",
      " {'day': 1602493200, 'temp': 283.72},\n",
      " {'day': 1602504000, 'temp': 283.4},\n",
      " {'day': 1602514800, 'temp': 282.07},\n",
      " {'day': 1602525600, 'temp': 280.96},\n",
      " {'day': 1602536400, 'temp': 280.47},\n",
      " {'day': 1602547200, 'temp': 280.16},\n",
      " {'day': 1602558000, 'temp': 280.12},\n",
      " {'day': 1602568800, 'temp': 280.86},\n",
      " {'day': 1602579600, 'temp': 281.12},\n",
      " {'day': 1602590400, 'temp': 282.72},\n",
      " {'day': 1602601200, 'temp': 284.24},\n",
      " {'day': 1602612000, 'temp': 284.36},\n",
      " {'day': 1602622800, 'temp': 282.25},\n",
      " {'day': 1602633600, 'temp': 281.54},\n",
      " {'day': 1602644400, 'temp': 280.3},\n",
      " {'day': 1602655200, 'temp': 280.71},\n",
      " {'day': 1602666000, 'temp': 282.37},\n",
      " {'day': 1602676800, 'temp': 282.6}]\n"
     ]
    }
   ],
   "source": [
    "import requests\n",
    "import pprint\n",
    "\n",
    "class OpenWeatherMap:\n",
    "    \n",
    "    def get(self, city):\n",
    "        url = \"https://community-open-weather-map.p.rapidapi.com/forecast\"\n",
    "        querystring = {\"q\":\"Saint Petersburg\"}\n",
    "        headers = {\n",
    "            'x-rapidapi-host': \"community-open-weather-map.p.rapidapi.com\",\n",
    "            'x-rapidapi-key': \"03954048aemsh1b833d2a151e5bfp1e65b3jsne4405c26b43d\"\n",
    "        }\n",
    "        data = requests.request(\"GET\", url, headers=headers, params=querystring).json()\n",
    "        forecast = []\n",
    "        forecast_data = data[\"list\"]\n",
    "        for day in forecast_data:\n",
    "            forecast.append({\n",
    "                \"day\": day[\"dt\"],\n",
    "                \"temp\": day[\"main\"][\"temp\"]\n",
    "            })\n",
    "        return forecast\n",
    "            \n",
    "\n",
    "\n",
    "class CityInfo:\n",
    "    \n",
    "    def __init__(self, city, forecast_provider=None):\n",
    "        self.city = city\n",
    "        self._forecast_provider = forecast_provider or OpenWeatherMap()\n",
    "        \n",
    "    def weather_forecast(self):\n",
    "        return self._forecast_provider.get(self.city)\n",
    "\n",
    "\n",
    "def _main():\n",
    "    city = CityInfo(\"Saint Petersburg\") # Будем смотреть погоду в Москве\n",
    "    forecast = city.weather_forecast() # Метод, возвращающий прогноз погоды\n",
    "    \n",
    "    pprint.pprint(forecast) # Красивая печать прогноза с помощью PrettyPrinter\n",
    "\n",
    "\n",
    "if __name__ == \"__main__\":\n",
    "    _main()"
   ]
  },
  {
   "cell_type": "markdown",
   "metadata": {},
   "source": [
    "# Наследование в Python"
   ]
  },
  {
   "cell_type": "markdown",
   "metadata": {},
   "source": [
    "#### Наследование классов нужно для изменения поведения конкретного класса, а также расширения его функционала. Допустим, у нас есть готовый класс для домашнего питомца:"
   ]
  },
  {
   "cell_type": "code",
   "execution_count": 81,
   "metadata": {},
   "outputs": [],
   "source": [
    "class Pet:\n",
    "    \n",
    "    def __init__(self, name=None):\n",
    "        self.name = name"
   ]
  },
  {
   "cell_type": "markdown",
   "metadata": {},
   "source": [
    "#### Давайте представим, что нам необходимо промоделировать процесс заселения планеты Земля домашними питомцами. Но нам неинтересно населять планету Земля непонятными питомцами, мы хотим населить её конкретно собаками, при этом не меняя класса Pet. Поэтому давайте расширим этот класс."
   ]
  },
  {
   "cell_type": "markdown",
   "metadata": {},
   "source": [
    "#### Чтобы унаследовать класс \"питомец\", мы объявляем класс Dog, и в скобках указываем родительский класс Pet. Новый класс, созданный при помощи наследования, наследует все атрибуты и методы родительского класса. В данном случае класс \"питомец\" является родительским классом, также его называют базовым классом или суперклассом. А класс \"собака\" называется дочерним классом или классом-наследником."
   ]
  },
  {
   "cell_type": "code",
   "execution_count": 82,
   "metadata": {},
   "outputs": [
    {
     "name": "stdout",
     "output_type": "stream",
     "text": [
      "Шарик\n"
     ]
    }
   ],
   "source": [
    "class Dog(Pet):\n",
    "    \n",
    "    def __init__(self, name, breed=None):\n",
    "        super().__init__(name)\n",
    "        self.breed = breed\n",
    "        \n",
    "    def say(self):\n",
    "        return f\"{self.name}: waw\"\n",
    "    \n",
    "    \n",
    "dog = Dog(\"Шарик\", \"Доберман\")\n",
    "print(dog.name)"
   ]
  },
  {
   "cell_type": "code",
   "execution_count": 83,
   "metadata": {},
   "outputs": [
    {
     "name": "stdout",
     "output_type": "stream",
     "text": [
      "Шарик: waw\n"
     ]
    }
   ],
   "source": [
    "print(dog.say())"
   ]
  },
  {
   "cell_type": "markdown",
   "metadata": {},
   "source": [
    "#### В Python разрешено наследование от нескольких классов предков, или как это ещё называется, множественное наследование. Очень часто этот приём используется для реализации классов-примесей. Предположим, что нам необходимо экспортировать данные о наших объектах (собачках) в формате json, чтобы хранить эти данные на жестком диске, либо передавать по сети. Мы можем решить подобную задачу при помощи классовпримесей и множественного наследования."
   ]
  },
  {
   "cell_type": "markdown",
   "metadata": {},
   "source": [
    "#### Объявим класс ExportJSON, реализуем метод, который экспортирует данные в формате json, и создадим новый класс, который называется ExDog --- он будет наследоваться от класса \"собака\" и нашего нового класса-примеси ExportJSON:"
   ]
  },
  {
   "cell_type": "code",
   "execution_count": 84,
   "metadata": {},
   "outputs": [],
   "source": [
    "import json\n",
    "\n",
    "\n",
    "class ExportJSON:\n",
    "    \n",
    "    def to_json(self):\n",
    "        return json.dumps({\n",
    "            \"name\": self.name,\n",
    "            \"breed\": self.breed\n",
    "        })\n",
    "    \n",
    "    \n",
    "class ExDog(Dog, ExportJSON):\n",
    "    pass"
   ]
  },
  {
   "cell_type": "markdown",
   "metadata": {},
   "source": [
    "#### С одной стороны, это кажется удобным и гибким, однако множественное наследование и использование большого количества примесей ухудшает читаемость кода. Поэтому не стоит сильно увлекаться и создавать большое количество классов-примесей."
   ]
  },
  {
   "cell_type": "markdown",
   "metadata": {},
   "source": [
    "#### Любой класс в Python является потомком класса object. Мы можем легко убедиться в этом, если попробуем использовать функцию issubclass:"
   ]
  },
  {
   "cell_type": "code",
   "execution_count": 86,
   "metadata": {},
   "outputs": [
    {
     "name": "stdout",
     "output_type": "stream",
     "text": [
      "True\n",
      "True\n",
      "True\n",
      "False\n"
     ]
    }
   ],
   "source": [
    "print(issubclass(int, object))\n",
    "print(issubclass(Dog, object))\n",
    "print(issubclass(Dog, Pet))\n",
    "print(issubclass(Dog, int))"
   ]
  },
  {
   "cell_type": "markdown",
   "metadata": {},
   "source": [
    "#### Также при помощи функции isinstance мы можем проверять, является ли конкретный объект экземпляром какого-то класса:"
   ]
  },
  {
   "cell_type": "code",
   "execution_count": 88,
   "metadata": {},
   "outputs": [
    {
     "name": "stdout",
     "output_type": "stream",
     "text": [
      "True\n",
      "True\n",
      "True\n"
     ]
    }
   ],
   "source": [
    "print(isinstance(dog, Dog))\n",
    "print(isinstance(dog, Pet))\n",
    "print(isinstance(dog, object))"
   ]
  },
  {
   "cell_type": "markdown",
   "metadata": {},
   "source": [
    "#### При помощи наследования Python позволяет выстраивать достаточно сложные иерархии классов. Мы построили довольно сложную иерархию: есть класс ExDog, который мы создали при помощи множественного наследования от класса Dog и класса-примеси ExportJSON. В свою очередь, класс Dog наследуется от класса \"питомец\", и все остальные классы наследуются от класса object. Если мы попробуем создать экземпляр класса ExDog и обратиться к атрибуту name, то как же Python будет искать этот атрибут в существующей иерархии классов?"
   ]
  },
  {
   "cell_type": "markdown",
   "metadata": {},
   "source": [
    "#### Для этого в Python существует так называемый Method Resolution Order, или порядок разрешения методов, и это отдельная тема для изучения. Однако все, что вам нужно знать --- это порядок, в котором Python ищет нужный атрибут или метод. Этот порядок можно получить при помощи атрибута __mro__. Он говорит о том, что если мы попробуем обратиться к атрибуту name, Python будет искать сначала в классе ExDog, затем Dog, и после того, как он обратится к классу Pet, нужный атрибут name будет найден. Данный список ещё называется линеаризацией класса, то есть Python последовательно ищет любые атрибуты и методы в этом списке. Если он пройдется по всему списку и не найдет нужный атрибут или метод, то будет сгенерировано исключение AttributeError."
   ]
  },
  {
   "cell_type": "code",
   "execution_count": 89,
   "metadata": {},
   "outputs": [
    {
     "data": {
      "text/plain": [
       "(__main__.ExDog, __main__.Dog, __main__.Pet, __main__.ExportJSON, object)"
      ]
     },
     "execution_count": 89,
     "metadata": {},
     "output_type": "execute_result"
    }
   ],
   "source": [
    "ExDog.__mro__"
   ]
  },
  {
   "cell_type": "markdown",
   "metadata": {},
   "source": [
    "#### В самом начале, когда мы создавали класс Dog, мы рассматривали вызов инициализатора базового класса с помощью функции super() без параметров. Однако в Python можно обратиться не только к базовому классу, но и к любому методу в существующей иерархии. Вызов функции super() без параметров равносилен тому, что мы указали сам класс и передали туда объект self. Однако если необходимо вызвать метод конкретного класса, то в функцию super() надо передать его родителя."
   ]
  },
  {
   "cell_type": "markdown",
   "metadata": {},
   "source": [
    "#### Итак, если мы создадим новый класс WoolenDog и захотим обратиться к инициализатору класса \"питомец\", то нам необходимо в функции super() указать класс-родитель. Далее попробуем создать объект класса WoolenDog и обратиться к атрибуту breed:"
   ]
  },
  {
   "cell_type": "code",
   "execution_count": 90,
   "metadata": {},
   "outputs": [
    {
     "name": "stdout",
     "output_type": "stream",
     "text": [
      "Шерстяная собака породы Такса\n"
     ]
    }
   ],
   "source": [
    "class ExDog(Dog, ExportJSON):\n",
    "\n",
    "    def __init__(self, name, breed=None):\n",
    "        # Вызов метода по MRO\n",
    "        super().__init__(name, breed)\n",
    "        # То же самое, что super(ExDog, self).__init__(name)\n",
    "        \n",
    "\n",
    "class WoolenDog(Dog, ExportJSON):\n",
    "    \n",
    "    def __init__(self, name, breed=None):\n",
    "        # Явное указание метода конкретного класса\n",
    "        super(Dog, self).__init__(name)\n",
    "        self.breed = f\"Шерстяная собака породы {breed}\"\n",
    "        \n",
    "\n",
    "dog = WoolenDog(\"Жучка\", breed=\"Такса\")\n",
    "print(dog.breed)"
   ]
  },
  {
   "cell_type": "markdown",
   "metadata": {},
   "source": [
    "#### Также в Python существуют приватные атрибуты. Для того чтобы создать приватный атрибут, необходимо его имя записать через два символа нижнего подчёркивания. Предположим, что атрибут breed мы решили сделать приватным, тогда в самом классе к нему можно обращаться так же, а вот для классов-наследников этот атрибут будет уже недоступен:"
   ]
  },
  {
   "cell_type": "code",
   "execution_count": 91,
   "metadata": {},
   "outputs": [],
   "source": [
    "class Dog(Pet):\n",
    "    \n",
    "    def __init__(self, name, breed=None):\n",
    "        super().__init__(name)\n",
    "        self.__breed = breed\n",
    "    \n",
    "    def say(self):\n",
    "        return f\"{self.name}: waw!\"\n",
    "    \n",
    "    def get_breed(self):\n",
    "        return self.__breed\n",
    "    \n",
    "    \n",
    "class ExDog(Dog, ExportJSON):\n",
    "    \n",
    "    def get_breed(self):\n",
    "        return f\"Порода {self.name} - {self.__breed}\""
   ]
  },
  {
   "cell_type": "markdown",
   "metadata": {},
   "source": [
    "#### Можете проверить, что такой вызов приведёт к AttributeError:"
   ]
  },
  {
   "cell_type": "code",
   "execution_count": 92,
   "metadata": {},
   "outputs": [
    {
     "ename": "AttributeError",
     "evalue": "'ExDog' object has no attribute '_ExDog__breed'",
     "output_type": "error",
     "traceback": [
      "\u001b[1;31m---------------------------------------------------------------------------\u001b[0m",
      "\u001b[1;31mAttributeError\u001b[0m                            Traceback (most recent call last)",
      "\u001b[1;32m<ipython-input-92-2ab25c502291>\u001b[0m in \u001b[0;36m<module>\u001b[1;34m\u001b[0m\n\u001b[0;32m      1\u001b[0m \u001b[0mdog\u001b[0m \u001b[1;33m=\u001b[0m \u001b[0mExDog\u001b[0m\u001b[1;33m(\u001b[0m\u001b[1;34m\"Фокс\"\u001b[0m\u001b[1;33m,\u001b[0m \u001b[1;34m\"Мопс\"\u001b[0m\u001b[1;33m)\u001b[0m\u001b[1;33m\u001b[0m\u001b[1;33m\u001b[0m\u001b[0m\n\u001b[1;32m----> 2\u001b[1;33m \u001b[0mdog\u001b[0m\u001b[1;33m.\u001b[0m\u001b[0mget_breed\u001b[0m\u001b[1;33m(\u001b[0m\u001b[1;33m)\u001b[0m\u001b[1;33m\u001b[0m\u001b[1;33m\u001b[0m\u001b[0m\n\u001b[0m",
      "\u001b[1;32m<ipython-input-91-0d7819394f22>\u001b[0m in \u001b[0;36mget_breed\u001b[1;34m(self)\u001b[0m\n\u001b[0;32m     15\u001b[0m \u001b[1;33m\u001b[0m\u001b[0m\n\u001b[0;32m     16\u001b[0m     \u001b[1;32mdef\u001b[0m \u001b[0mget_breed\u001b[0m\u001b[1;33m(\u001b[0m\u001b[0mself\u001b[0m\u001b[1;33m)\u001b[0m\u001b[1;33m:\u001b[0m\u001b[1;33m\u001b[0m\u001b[1;33m\u001b[0m\u001b[0m\n\u001b[1;32m---> 17\u001b[1;33m         \u001b[1;32mreturn\u001b[0m \u001b[1;34mf\"Порода {self.name} - {self.__breed}\"\u001b[0m\u001b[1;33m\u001b[0m\u001b[1;33m\u001b[0m\u001b[0m\n\u001b[0m",
      "\u001b[1;31mAttributeError\u001b[0m: 'ExDog' object has no attribute '_ExDog__breed'"
     ]
    }
   ],
   "source": [
    "dog = ExDog(\"Фокс\", \"Мопс\")\n",
    "dog.get_breed()"
   ]
  },
  {
   "cell_type": "markdown",
   "metadata": {},
   "source": [
    "#### Можно распечатать внутренний атрибут __dict__, который нам покажет все атрибуты нашего созданного объекта. Мы видим, что Python автоматически изменил имя приватного агрумента."
   ]
  },
  {
   "cell_type": "code",
   "execution_count": 93,
   "metadata": {},
   "outputs": [
    {
     "data": {
      "text/plain": [
       "{'name': 'Фокс', '_Dog__breed': 'Мопс'}"
      ]
     },
     "execution_count": 93,
     "metadata": {},
     "output_type": "execute_result"
    }
   ],
   "source": [
    "dog.__dict__"
   ]
  },
  {
   "cell_type": "markdown",
   "metadata": {},
   "source": [
    "#### Мы можем обратиться к аргументу по новому имени _Dog__breed Таким образом, Python всё же позволяет обращаться к приватным атрибутам класса вне самого класса, однако не стоит этим увлекаться."
   ]
  },
  {
   "cell_type": "markdown",
   "metadata": {},
   "source": [
    "# Композиция классов, пример"
   ]
  },
  {
   "cell_type": "markdown",
   "metadata": {},
   "source": [
    "#### В Python существует альтернативный подход наследованию --- это композиция. Вспомним пример из предыдущего видео. У нас был класс \"питомец\", мы от него унаследовали класс Dog. Затем мы захотели, чтобы наши объекты классов \"собака\" могли выполнять экспорт данных, и мы ввели класс-примесь ExportJSON. После этого наш финальный класс ExDog использовал множественное наследование и наследовался от класса \"собачка\" и ExportJSON. Если бы нам пришлось экспортировать данные не только в формате json, но в другом формате (например, XML), нам бы понадобился ещё один класс-примесь:"
   ]
  },
  {
   "cell_type": "code",
   "execution_count": 94,
   "metadata": {},
   "outputs": [],
   "source": [
    "class ExportJSON:\n",
    "    \n",
    "    def to_json(self):\n",
    "        pass\n",
    "\n",
    "\n",
    "class ExportXML:\n",
    "    \n",
    "    def to_xml(self):\n",
    "        pass\n",
    "\n",
    "\n",
    "class ExDog(Dog, ExportJSON, ExportXML):\n",
    "    pass\n",
    "\n",
    "\n",
    "dog = ExDog(\"Фокс\", \"мопс\")\n",
    "dog.to_xml()\n",
    "dog.to_json()"
   ]
  },
  {
   "cell_type": "markdown",
   "metadata": {},
   "source": [
    "#### Давайте представим, что нам нужно будет добавлять еще несколько методов для экспорта данных. В таком случае нам постоянно придется изменять код нашего класса ExDog, дописывая туда новые классы-примеси, что может слишком усложнить наш код. Именно для того, чтобы этого избежать, используют композицию классов."
   ]
  },
  {
   "cell_type": "markdown",
   "metadata": {},
   "source": [
    "#### Создадим новый класс PetExport:"
   ]
  },
  {
   "cell_type": "code",
   "execution_count": 95,
   "metadata": {},
   "outputs": [],
   "source": [
    "class PetExport:\n",
    "    \n",
    "    def export(self, dog):\n",
    "        # Не будем создавать экземпляров класса, он нужен только для наследования\n",
    "        raise NotImplementedError\n",
    "\n",
    "\n",
    "class ExportXML(PetExport):\n",
    "    \n",
    "    def export(self, dog):\n",
    "        pass\n",
    "\n",
    "\n",
    "class ExportJSON(PetExport):\n",
    "    \n",
    "    def export(self, dog):\n",
    "        pass"
   ]
  },
  {
   "cell_type": "markdown",
   "metadata": {},
   "source": [
    "#### Вспомним про классы, которые у нас уже были:"
   ]
  },
  {
   "cell_type": "code",
   "execution_count": 96,
   "metadata": {},
   "outputs": [],
   "source": [
    "class Pet:\n",
    "    \n",
    "    def __init__(self, name):\n",
    "        self,name = name\n",
    "\n",
    "\n",
    "class Dog(Pet):\n",
    "    \n",
    "    def __init__(self, name, breed=None):\n",
    "        super().__init__(name)\n",
    "        self.breed = breed"
   ]
  },
  {
   "cell_type": "markdown",
   "metadata": {},
   "source": [
    "#### Теперь снова создадим класс ExDog, уже без использования множественного наследования:"
   ]
  },
  {
   "cell_type": "code",
   "execution_count": 97,
   "metadata": {},
   "outputs": [],
   "source": [
    "class ExDog(Dog):\n",
    "    \n",
    "    def __init__(self, name, breed=None, exporter=None):\n",
    "        super().__init__(name, breed)\n",
    "        self._exporter = exporter\n",
    "\n",
    "    def export(self):\n",
    "        return self._exporter.export(self)"
   ]
  },
  {
   "cell_type": "markdown",
   "metadata": {},
   "source": [
    "#### Давайте попробуем создать экземпляр нашего класса ExDog. Предположим, мы хотим, чтобы объект этого класса умел экспортировать свои данные в xml. Давайте передадим нужный exporter. Обратите внимание, что при использовании композиции нужный объект создается именно в момент выполнения конкретной программы:"
   ]
  },
  {
   "cell_type": "code",
   "execution_count": 98,
   "metadata": {},
   "outputs": [
    {
     "ename": "SyntaxError",
     "evalue": "invalid syntax (<ipython-input-98-7be91f3345e2>, line 1)",
     "output_type": "error",
     "traceback": [
      "\u001b[1;36m  File \u001b[1;32m\"<ipython-input-98-7be91f3345e2>\"\u001b[1;36m, line \u001b[1;32m1\u001b[0m\n\u001b[1;33m    dog = (\"Шарик\", \"Дворняга\", exporter=ExportXML())\u001b[0m\n\u001b[1;37m                                        ^\u001b[0m\n\u001b[1;31mSyntaxError\u001b[0m\u001b[1;31m:\u001b[0m invalid syntax\n"
     ]
    }
   ],
   "source": [
    "dog = (\"Шарик\", \"Дворняга\", exporter=ExportXML())\n",
    "dog.export()"
   ]
  },
  {
   "cell_type": "markdown",
   "metadata": {},
   "source": [
    "#### Осталось реализовать только методы для экспорта в начальной иерархии классов. С json все просто --- используем модуль json и метод dumps:"
   ]
  },
  {
   "cell_type": "code",
   "execution_count": 99,
   "metadata": {},
   "outputs": [],
   "source": [
    "class ExportJSON(PetExport):\n",
    "    \n",
    "    def export(self, dog):\n",
    "        return json.dumps({\n",
    "            \"name\": dog.name,\n",
    "            \"breed\": dog.breed,\n",
    "        })"
   ]
  },
  {
   "cell_type": "markdown",
   "metadata": {},
   "source": [
    "#### Давайте реализуем теперь метод export в классе ExportXML:"
   ]
  },
  {
   "cell_type": "code",
   "execution_count": 100,
   "metadata": {},
   "outputs": [],
   "source": [
    "class ExportXML(PetExport):\n",
    "    \n",
    "    def export(self, dog):\n",
    "        return \"\"\"<?xml version=\"1.0\" encoding=\"utf-8\"?>\n",
    "            <dog>\n",
    "            <name>{0}</name>\n",
    "            <breed>{1}</breed>\n",
    "            </dog>\"\"\".format(dog.name, dog.breed)"
   ]
  },
  {
   "cell_type": "markdown",
   "metadata": {},
   "source": [
    "#### Однако, неудобно каждый раз задавать метод для экспорта. Давайте немного изменим наш класс ExDog и зададим метод для экспорта по умолчанию. Также сделаем проверку на то, является ли переданный объект экземпляром класса PetExport и может ли он вообще выполнять экспорт данных. Для этого мы можем воспользоваться проверкой isinstance."
   ]
  },
  {
   "cell_type": "markdown",
   "metadata": {},
   "source": [
    "#### Что делать, если нам передали объект, который не может выполнять экспорт? Давайте сгенерируем исключение (в данном случае, ValueError) --- это будет означать, что программа дальше не сможет продолжить свою работу и будет остановлена."
   ]
  },
  {
   "cell_type": "code",
   "execution_count": 101,
   "metadata": {},
   "outputs": [],
   "source": [
    "class ExDog(Dog):\n",
    "    \n",
    "    def __init__(self, name, breed=None, exporter=None):\n",
    "        super().__init__(name, breed)\n",
    "        \n",
    "        self._exporter = exporter or ExportJSON()\n",
    "        \n",
    "        if not isinstance(self._exporter, PetExport):\n",
    "            raise ValueError(\"Bad export instance value\", exporter)\n",
    "            \n",
    "    def export(self):\n",
    "        return self._exporter.export(self)"
   ]
  },
  {
   "cell_type": "markdown",
   "metadata": {},
   "source": [
    "#### Теперь, если нам нужно будет добавить в этот код новый метод для экспорта, мы с легкостью сможем сделать это. Просто объявим новый класс, добавим его в существующую иерархию для экспорта, а класс ExDog менять не будем. А экспортировать в различные форматы мы сможем легко и удобно в итоговой программе, подставив нужный exporter или создав его."
   ]
  },
  {
   "cell_type": "markdown",
   "metadata": {},
   "source": [
    "# Классы исключений и их обработка"
   ]
  },
  {
   "cell_type": "code",
   "execution_count": 105,
   "metadata": {},
   "outputs": [
    {
     "name": "stdout",
     "output_type": "stream",
     "text": [
      "https://vk.com/\n",
      "b'            <!DOCTYPE html>\\n      <html class=\"vk vk_js_no vk_1x vk_flex_no r d h  vk_appAuth_no n vk_old  vk_schemes_no \">\\n      <head>\\n              <meta charset=\"utf-8\">\\n        <meta name=\"viewport\" content=\"width=device-width, initial-scale=1.0, minimum-scale=1.0, maximum-scale=1.0, minimal-ui, user-scalable=no\" />\\n        <meta name=\"format-detection\" content=\"telephone=no\" />\\n        <meta http-equiv=\"X-UA-Compatible\" content=\"IE=edge\" />\\n        <meta name=\"MobileOptimized\" content=\"176\" />\\n        <meta name=\"HandheldFriendly\" content=\"True\" />\\n        <base id=\"base\">\\n        \\n        <meta name=\"description\" content=\"\\xd0\\x92\\xd0\\x9a\\xd0\\xbe\\xd0\\xbd\\xd1\\x82\\xd0\\xb0\\xd0\\xba\\xd1\\x82\\xd0\\xb5 \\xe2\\x80\\x93 \\xd1\\x83\\xd0\\xbd\\xd0\\xb8\\xd0\\xb2\\xd0\\xb5\\xd1\\x80\\xd1\\x81\\xd0\\xb0\\xd0\\xbb\\xd1\\x8c\\xd0\\xbd\\xd0\\xbe\\xd0\\xb5 \\xd1\\x81\\xd1\\x80\\xd0\\xb5\\xd0\\xb4\\xd1\\x81\\xd1\\x82\\xd0\\xb2\\xd0\\xbe \\xd0\\xb4\\xd0\\xbb\\xd1\\x8f \\xd0\\xbe\\xd0\\xb1\\xd1\\x89\\xd0\\xb5\\xd0\\xbd\\xd0\\xb8\\xd1\\x8f \\xd0\\xb8 \\xd0\\xbf\\xd0\\xbe\\xd0\\xb8\\xd1\\x81\\xd0\\xba\\xd0\\xb0 \\xd0\\xb4\\xd1\\x80\\xd1\\x83\\xd0\\xb7\\xd0\\xb5\\xd0\\xb9 \\xd0\\xb8 \\xd0\\xbe\\xd0\\xb4\\xd0\\xbd\\xd0\\xbe\\xd0\\xba\\xd0\\xbb\\xd0\\xb0\\xd1\\x81\\xd1\\x81\\xd0\\xbd\\xd0\\xb8\\xd0\\xba\\xd0\\xbe\\xd0\\xb2, \\xd0\\xba\\xd0\\xbe\\xd1\\x82\\xd0\\xbe\\xd1\\x80\\xd1\\x8b\\xd0\\xbc \\xd0\\xb5\\xd0\\xb6\\xd0\\xb5\\xd0\\xb4\\xd0\\xbd\\xd0\\xb5\\xd0\\xb2\\xd0\\xbd\\xd0\\xbe \\xd0\\xbf\\xd0\\xbe\\xd0\\xbb\\xd1\\x8c\\xd0\\xb7\\xd1\\x83\\xd1\\x8e\\xd1\\x82\\xd1\\x81\\xd1\\x8f \\xd0\\xb4\\xd0\\xb5\\xd1\\x81\\xd1\\x8f\\xd1\\x82\\xd0\\xba\\xd0\\xb8 \\xd0\\xbc\\xd0\\xb8\\xd0\\xbb\\xd0\\xbb\\xd0\\xb8\\xd0\\xbe\\xd0\\xbd\\xd0\\xbe\\xd0\\xb2 \\xd1\\x87\\xd0\\xb5\\xd0\\xbb\\xd0\\xbe\\xd0\\xb2\\xd0\\xb5\\xd0\\xba. \\xd0\\x9c\\xd1\\x8b \\xd1\\x85\\xd0\\xbe\\xd1\\x82\\xd0\\xb8\\xd0\\xbc, \\xd1\\x87\\xd1\\x82\\xd0\\xbe\\xd0\\xb1\\xd1\\x8b \\xd0\\xb4\\xd1\\x80\\xd1\\x83\\xd0\\xb7\\xd1\\x8c\\xd1\\x8f, \\xd0\\xbe\\xd0\\xb4\\xd0\\xbd\\xd0\\xbe\\xd0\\xba\\xd1\\x83\\xd1\\x80\\xd1\\x81\\xd0\\xbd\\xd0\\xb8\\xd0\\xba\\xd0\\xb8, \\xd0\\xbe\\xd0\\xb4\\xd0\\xbd\\xd0\\xbe\\xd0\\xba\\xd0\\xbb\\xd0\\xb0\\xd1\\x81\\xd1\\x81\\xd0\\xbd\\xd0\\xb8\\xd0\\xba\\xd0\\xb8, \\xd1\\x81\\xd0\\xbe\\xd1\\x81\\xd0\\xb5\\xd0\\xb4\\xd0\\xb8 \\xd0\\xb8 \\xd0\\xba\\xd0\\xbe\\xd0\\xbb\\xd0\\xbb\\xd0\\xb5\\xd0\\xb3\\xd0\\xb8 \\xd0\\xb2\\xd1\\x81\\xd0\\xb5\\xd0\\xb3\\xd0\\xb4\\xd0\\xb0 \\xd0\\xbe\\xd1\\x81\\xd1\\x82\\xd0\\xb0\\xd0\\xb2\\xd0\\xb0\\xd0\\xbb\\xd0\\xb8\\xd1\\x81\\xd1\\x8c \\xd0\\xb2 \\xd0\\xba\\xd0\\xbe\\xd0\\xbd\\xd1\\x82\\xd0\\xb0\\xd0\\xba\\xd1\\x82\\xd0\\xb5.\" />\\n        <link rel=\"shortcut icon\" href=\"/images/icons/favicons/fav_logo.ico?8\"></link>\\n            <meta name=\"theme-color\" content=\"#ffffff\" />\\n    <link rel=\"icon\" type=\"image/png\" sizes=\"32x32\" href=\"/images/icons/pwa/favicon_32.png?9\">\\n    <link rel=\"apple-touch-icon\" href=\"/images/icons/pwa/apple/default.png?9\">\\n    <meta name=\"apple-mobile-web-app-title\" content=\"\\xd0\\x92\\xd0\\x9a\\xd0\\xbe\\xd0\\xbd\\xd1\\x82\\xd0\\xb0\\xd0\\xba\\xd1\\x82\\xd0\\xb5\">\\n    <meta name=\"application-name\" content=\"\\xd0\\x92\\xd0\\x9a\\xd0\\xbe\\xd0\\xbd\\xd1\\x82\\xd0\\xb0\\xd0\\xba\\xd1\\x82\\xd0\\xb5\">\\n    <meta name=\"mobile-web-app-capable\" content=\"yes\">\\n    <meta name=\"apple-mobile-web-app-status-bar-style\" content=\"black\">\\n        <title>\\xd0\\x9c\\xd0\\xbe\\xd0\\xb1\\xd0\\xb8\\xd0\\xbb\\xd1\\x8c\\xd0\\xbd\\xd0\\xb0\\xd1\\x8f \\xd0\\xb2\\xd0\\xb5\\xd1\\x80\\xd1\\x81\\xd0\\xb8\\xd1\\x8f \\xd0\\x92\\xd0\\x9a\\xd0\\xbe\\xd0\\xbd\\xd1\\x82\\xd0\\xb0\\xd0\\xba\\xd1\\x82\\xd0\\xb5 | \\xd0\\x92\\xd0\\x9a\\xd0\\xbe\\xd0\\xbd\\xd1\\x82\\xd0\\xb0\\xd0\\xba\\xd1\\x82\\xd0\\xb5</title>\\n        <meta http-equiv=\"origin-trial\" content=\"Av8ECqeAAIiC9bF3N7aq2M/TaxNzzpPcFXnw0rRb9KRUQlbyHKYmPj6KeVUFVDk+S7W9RfJH2GsEOS8G99uJvgcAAABaeyJvcmlnaW4iOiJodHRwczovL3ZrLmNvbTo0NDMiLCJmZWF0dXJlIjoiQmFkZ2luZyIsImV4cGlyeSI6MTU2MTY2MTkxNCwiaXNTdWJkb21haW4iOnRydWV9\">\\n        <script>\\n          (function() {\\n            window.vk = {\"id\":0,\"__debug\":false,\"__dev\":false,\"wsTransport\":\"https:\\\\/\\\\/stats.vk-portal.net\",\"statsMeta\":{\"platform\":\"mvk\",\"st\":false,\"time\":1602254695,\"hash\":\"TSJX6anazLhvVXkNkhy6mPnIKlTQEaneZzvlRmYTitX\"},\"tnsPixelType\":\"unauth\",\"tnsPixelSocdem\":\"13\",\"platform\":\"mvk\",\"rv\":\"26616\",\"ts\":1602254695,\"sw\":null,\"stFiles\":{\"\\\\/css\\\\/mobile\\\\/common.a4fed09fa570636002b8.css\":\"\",\"\\\\/js\\\\/cmodules\\\\/mobile\\\\/runtime.f5aa55154e756983c549.js\":\"b35b7ac99f647a0b506680bee4b3c2b438499302400bce06693a0f1ea9125b36\",\"\\\\/js\\\\/cmodules\\\\/mobile\\\\/vendors.af5a537f6cce92a68b28.js\":\"2ffafc070912033e6998446a2d9a968de85fd6efe2f4ded599fcfcc5dec1f30a\",\"\\\\/js\\\\/cmodules\\\\/mobile\\\\/b-d5f8ac8c50faa843f0b83edd0ae28bfe.a7fb06de54eda3dc742e.js\":\"fb9ef771726b046de5d1b76a0e55d17739d2a67a317b3c0053963a9155415349\",\"\\\\/js\\\\/cmodules\\\\/mobile\\\\/b-a8f7cf0af671e2a555da7b25524b9a42.e77d43db67fab1789ce6.js\":\"bf8c8032a6eac6ac7a28807b14cc0ecea5ddb85379012d4bf010b2991f75cc85\",\"\\\\/js\\\\/cmodules\\\\/mobile\\\\/grip.ba2b8e745b8cdd50fe9b.js\":\"5f341cf1043ab63458b5af10582dbb0bf04e0700b26960682aad8f71046a7187\"},\"stNavMap\":{\"promocode(\\\\\\\\\\\\/([0-9a-zA-Z-]+))?\":[\"\\\\/js\\\\/cmodules\\\\/mobile\\\\/runtime.f5aa55154e756983c549.js\",\"\\\\/js\\\\/cmodules\\\\/mobile\\\\/vendors.af5a537f6cce92a68b28.js\",\"\\\\/js\\\\/cmodules\\\\/mobile\\\\/b-d5f8ac8c50faa843f0b83edd0ae28bfe.a7fb06de54eda3dc742e.js\",\"\\\\/js\\\\/cmodules\\\\/mobile\\\\/b-a8f7cf0af671e2a555da7b25524b9a42.e77d43db67fab1789ce6.js\",\"\\\\/js\\\\/cmodules\\\\/mobile\\\\/b-35216c87a51105ca4c1dd702437ad9c1.31b221f55b930e464148.js\",\"\\\\/js\\\\/cmodules\\\\/mobile\\\\/promocode.47412542887a1cc36191.js\",\"\\\\/css\\\\/mobile\\\\/promocode.ea3977451b377bf0bf41.css\"],\"^\\\\\\\\\\\\/(video|clip)\":[\"\\\\/css\\\\/mobile\\\\/video.c6c5f4cd2ec769441358.css\",\"\\\\/js\\\\/cmodules\\\\/mobile\\\\/runtime.f5aa55154e756983c549.js\",\"\\\\/js\\\\/cmodules\\\\/mobile\\\\/vendors.af5a537f6cce92a68b28.js\",\"\\\\/js\\\\/cmodules\\\\/mobile\\\\/b-d5f8ac8c50faa843f0b83edd0ae28bfe.a7fb06de54eda3dc742e.js\",\"\\\\/js\\\\/cmodules\\\\/mobile\\\\/b-a8f7cf0af671e2a555da7b25524b9a42.e77d43db67fab1789ce6.js\",\"\\\\/js\\\\/cmodules\\\\/mobile\\\\/b-35216c87a51105ca4c1dd702437ad9c1.31b221f55b930e464148.js\",\"\\\\/js\\\\/cmodules\\\\/mobile\\\\/video.3b2b81ba2f22c66cd9bb.js\",\"\\\\/css\\\\/mobile\\\\/mail.cbabc8d09ae55fad3192.css\"],\"^\\\\\\\\\\\\/(photo|album|tag|attachments|market)\":[\"\\\\/css\\\\/mobile\\\\/photo.bd16233a80b82eff4457.css\",\"\\\\/css\\\\/mobile\\\\/mail.cbabc8d09ae55fad3192.css\"],\"^\\\\\\\\\\\\/(wall|mail|write|im|chatjoin)\":[\"\\\\/css\\\\/mobile\\\\/mail.cbabc8d09ae55fad3192.css\"],\"^\\\\\\\\\\\\/up(\\\\\\\\??[0-9a-zA-Z=_-]+)?$\":[\"\\\\/css\\\\/mobile\\\\/vkapp_future.9715fe6884b1c8863fb9.css\"],\"settings\\\\\\\\?act=money_transfer_history\":[\"\\\\/js\\\\/cmodules\\\\/mobile\\\\/runtime.f5aa55154e756983c549.js\",\"\\\\/js\\\\/cmodules\\\\/mobile\\\\/vendors.af5a537f6cce92a68b28.js\",\"\\\\/js\\\\/cmodules\\\\/mobile\\\\/b-d5f8ac8c50faa843f0b83edd0ae28bfe.a7fb06de54eda3dc742e.js\",\"\\\\/js\\\\/cmodules\\\\/mobile\\\\/b-a8f7cf0af671e2a555da7b25524b9a42.e77d43db67fab1789ce6.js\",\"\\\\/js\\\\/cmodules\\\\/mobile\\\\/b-35216c87a51105ca4c1dd702437ad9c1.31b221f55b930e464148.js\",\"\\\\/js\\\\/cmodules\\\\/mobile\\\\/money_transfer_history.5e9a6a7916eaae0c8749.js\",\"\\\\/css\\\\/mobile\\\\/money_transfer_history.76d5699c24426df607f2.css\"],\"reports\\\\\\\\?act=\":[\"\\\\/css\\\\/mobile\\\\/reports.bb4eaa920be32d4bef20.css\"],\"^\\\\\\\\\\\\/(blog|about|press|jobs|products|adv)\":[\"\\\\/css\\\\/mobile\\\\/blog.cd6b472c94af4714cbe0.css\",\"\\\\/js\\\\/cmodules\\\\/mobile\\\\/runtime.f5aa55154e756983c549.js\",\"\\\\/js\\\\/cmodules\\\\/mobile\\\\/vendors.af5a537f6cce92a68b28.js\",\"\\\\/js\\\\/cmodules\\\\/mobile\\\\/b-d5f8ac8c50faa843f0b83edd0ae28bfe.a7fb06de54eda3dc742e.js\",\"\\\\/js\\\\/cmodules\\\\/mobile\\\\/b-a8f7cf0af671e2a555da7b25524b9a42.e77d43db67fab1789ce6.js\",\"\\\\/js\\\\/cmodules\\\\/mobile\\\\/b-35216c87a51105ca4c1dd702437ad9c1.31b221f55b930e464148.js\",\"\\\\/js\\\\/cmodules\\\\/mobile\\\\/blog.74a1ca373d18270dfd3c.js\",\"\\\\/css\\\\/mobile\\\\/mail.cbabc8d09ae55fad3192.css\"],\"^\\\\\\\\\\\\/(product|cart|orders|market\\\\\\\\.php)(\\\\\\\\??[0-9a-zA-Z=_-]+)?\":[\"\\\\/js\\\\/cmodules\\\\/mobile\\\\/runtime.f5aa55154e756983c549.js\",\"\\\\/js\\\\/cmodules\\\\/mobile\\\\/vendors.af5a537f6cce92a68b28.js\",\"\\\\/js\\\\/cmodules\\\\/mobile\\\\/b-d5f8ac8c50faa843f0b83edd0ae28bfe.a7fb06de54eda3dc742e.js\",\"\\\\/js\\\\/cmodules\\\\/mobile\\\\/b-a8f7cf0af671e2a555da7b25524b9a42.e77d43db67fab1789ce6.js\",\"\\\\/js\\\\/cmodules\\\\/mobile\\\\/b-35216c87a51105ca4c1dd702437ad9c1.31b221f55b930e464148.js\",\"\\\\/js\\\\/cmodules\\\\/mobile\\\\/market.6ddb27cabc203607ac45.js\",\"\\\\/css\\\\/mobile\\\\/market.ba9a71c320badefc9170.css\"],\"^\\\\\\\\\\\\/groups_catalog\\\\\\\\\\\\/([0-9a-zA-Z_\\\\\\\\-]+)$\":[\"\\\\/js\\\\/cmodules\\\\/mobile\\\\/runtime.f5aa55154e756983c549.js\",\"\\\\/js\\\\/cmodules\\\\/mobile\\\\/groups_catalog.3215fa35d4ed65ff7140.js\"]},\"pe\":{\"article_poll\":1,\"vk_apps_svg_qr\":1,\"upload.send_upload_stat\":1,\"push_notifier\":1,\"story_reactions_web\":1,\"notify_new_events_box\":1,\"mini_apps_web_add_to_favorites\":1,\"mini_apps_web_add_to_menu\":1,\"mini_apps_m_web_new_stub_page\":1,\"mini_apps_web_catalog_enabled\":1,\"cookie_secure_default_true\":1,\"mvk_new_info_snackbar\":1,\"stickers_bot_link\":1,\"apps_promo_share_story\":1,\"widgets_xdm_same_origin\":1,\"stickers_money_transfer_suggestions\":1,\"web2_story_box_enabled\":1,\"bridge_mobile_story_box_enabled\":1,\"gifts_stickers_preview_tooltips\":1,\"easy_market_promote_new_payment\":1,\"navigation_timespent\":1,\"mvk_mediascope_counter\":1,\"market_item_recommendations_view_log\":1,\"market_item_others_view_log\":1,\"web_stats_transport_story_view\":1,\"registration_item_stat\":1,\"mvk_lazy_static_reload\":1,\"notifications_view_new\":1,\"add_from_field_to_docs_box\":1,\"ads_market_autopromotion_bookmarks_stats\":1,\"mvk_stickers_panel_optimize\":1,\"web_new_photo_editor\":1,\"web_new_photo_editor_crop\":1,\"web_photo_editor_hide_entrypoint\":1,\"web_stats_try_send\":1,\"stickers_catalog_reload_after_buy\":1,\"web_stats_send_on_events_limit\":1,\"market_hidden_albums_in_autopromotion\":1},\"ex\":[],\"audioAdsConfig\":{\"_\":\"_\"}};\\n            window.isMVK = true;\\n            window.isCustomScroll = false;\\n            window.isNewMail = false;\\n            window.isNewLongpoll = false;\\n            window.audioSubscribe = false;\\n            window.isArticleWebView = false;\\n            window.isBasicOffline = false;\\n\\n            var vkElem = document.querySelector(\\'.vk\\');\\n            var vkClass = vkElem.getAttribute(\\'class\\');\\n\\n            function cssPropertySupported(pNames) {\\n              var element = document.createElement(\\'a\\');\\n              var index = pNames.length;\\n              try {\\n                while (index--) {\\n                  var name = pNames[index];\\n\\n                  element.style.display = name;\\n                  if (element.style.display === name) {\\n                    return true;\\n                  }\\n                }\\n              } catch (pError) {}\\n\\n              return false;\\n            }\\n            var supports = {\\n              js: true,\\n              flex: cssPropertySupported(\\'flex -webkit-flex -ms-flexbox -moz-box -webkit-box\\'.split(\\' \\')),\\n            };\\n\\n            supports.js && (vkClass = vkClass.replace(\\'vk_js_no\\', \\'vk_js_yes\\'));\\n            supports.flex && (vkClass = vkClass.replace(\\'vk_flex_no\\', \\'vk_flex_yes\\'));\\n            vkElem.setAttribute(\\'class\\', vkClass);\\n          })();\\n        </script>\\n\\n        \\n        <script type=\"text/javascript\">\\n<!--\\n;(function(){\"use strict\";function e(e){t(e),e.hash_redirect&&o(e),e.al_ver&&(window.al={ver:e.al_ver}),document.addEventListener(\"DOMContentLoaded\",(function(){e.enabled_tooltips&&window.Tooltip&&window.Tooltip.initEnabledTooltips&&window.Tooltip.initEnabledTooltips(e.enabled_tooltips)}))}function t(e){var t=e.iospwa_cookie,o=e.device_cookie,i=e.cookie_secure,n=e.cookie_samesite,a=e.cookie_path,r=e.cookie_domain,c=e.need_reload,s=new Date((new Date).getTime()+7776e6).toUTCString();!0===navigator.standalone&&-1===document.cookie.indexOf(t+\"=1\")&&(document.cookie=t+\"=1; expires=\"+s+\";\"+i+n+\" path=\"+a+\"; domain=\"+r);var l=document,d=window,u=\"undefined\",p=\"!\",f=\"-\",m=d.screen,v=m.width||0,h=m.height||0,y=d.devicePixelRatio||1,w=new RegExp(\"(^|;\\\\\\\\s+)\"+o+\"=([^;]+)\"),g=(l.cookie.match(w)||[])[2]||\"\",T=g.split(\"/\");if(g&&v==T[0]&&h==T[1]&&y==T[2]&&7===T[3].length);else{var k=[v,h,y,M()].join(\"/\");l.cookie=o+\"=; expires=\"+new Date(0).toUTCString()+\";\"+i+n+\" path=\"+a,l.cookie=o+\"=\"+k+\"; expires=\"+s+\";\"+i+n+\" path=\"+a+\"; domain=\"+r,\"\"!==l.cookie&&c&&location.reload()}function M(){var e=(function(){var e;try{e=new XMLHttpRequest}catch(t){try{e=new ActiveXObject(\"Msxml2.XMLHTTP\")}catch(t){try{e=new ActiveXObject(\"Microsoft.XMLHTTP\")}catch(e){}}}return e?\"!\":\"-\"})(),t=((o=l.createElement(\"div\")).innerHTML=\\'<input type=\"file\" />\\',\"file\"!==(o=o.getElementsByTagName(\"input\")[0]).type||o.disabled?\"-\":\"!\"),o,i=\"ontouchstart\"in d?\"!\":\"-\",n=\"-\",a,r,c;try{(typeof navigator.geolocation!==u||typeof d.google!==u&&typeof google.gears!==u||typeof device!==u&&typeof device.getServiceObject!==u||typeof Mojo!==u&&\"Mojo.Service.Request\"!=typeof Mojo.Service.Request)&&(n=\"!\")}catch(e){}return[e,t,i,n,(function(e){try{var t=d.Audio?new Audio:l.createElement(\"audio\");if(t.canPlayType&&t.canPlayType(e)&&\"no\"!==t.canPlayType(e))return\"!\"}catch(e){}return\"-\"})(\"audio/mpeg\"),(function(e){try{for(var t=l.createElement(\"div\"),o=[\"\",\"webkit\",\"Moz\",\"ms\",\"O\"],i=0,n=o.length;i<n;i++){var a=o[i],r=a?a+e:e.toLowerCase();if(typeof t.style[r]!==u)return\"!\"}return\"-\"}catch(e){return\"-\"}})(\"Transform\"),(d.XMLHttpRequest||d.XDomainRequest)&&(d.FormData||d.FileReader&&(d.XMLHttpRequest&&XMLHttpRequest.sendAsBinary||d.ArrayBuffer&&d.Uint8Array&&(d.MozBlobBuilder||d.WebKitBlobBuilder||d.BlobBuilder)))?\"!\":\"-\"].join(\"\")}}function o(e){var t=e.cookie_secure,o=e.cookie_samesite,i=location,n=i.hash||\"\",a=n.substr(2);if(\"#/\"===n.substr(0,2)){var r=window.locDomain,c=new Date;c.setTime(c.getTime()+864e5);var s=\"; expires=\"+c.toGMTString();document.cookie=[\"remixtmp_hash_nav\",\"=\",escape(i.href),s,\"; path=/\",\"\"+t,\"\"+o,r?\"; domain=.\"+r:\"\"].join(\"\"),a.match(/^\\\\/*(away|login)(\\\\.php)?([^a-z0-9\\\\.]|$)/)&&(a=\"\"),i.replace(i.protocol+\"//\"+i.host+\"/\"+a)}}return e})()({\"hash_redirect\":true,\"device_cookie\":\"remixmdevice\",\"iospwa_cookie\":\"remixmiospwa\",\"cookie_path\":\"\\\\/\",\"cookie_domain\":\".vk.com\",\"cookie_samesite\":\"\",\"cookie_secure\":\" Secure;\",\"need_reload\":true,\"enabled_tooltips\":{\"mvk:video_filters\":false,\"feed:textlive_hide\":true},\"al_ver\":\"\"});\\n//-->\\n</script>\\n        <link rel=\"stylesheet\" href=\"/css/mobile/common.a4fed09fa570636002b8.css?\">\\n<script src=\"/js/cmodules/mobile/runtime.f5aa55154e756983c549.js?b35b7ac99f647a0b506680bee4b3c2b438499302400bce06693a0f1ea9125b36\"></script>\\n<script src=\"/js/cmodules/mobile/vendors.af5a537f6cce92a68b28.js?2ffafc070912033e6998446a2d9a968de85fd6efe2f4ded599fcfcc5dec1f30a\"></script>\\n<script src=\"/js/cmodules/mobile/b-d5f8ac8c50faa843f0b83edd0ae28bfe.a7fb06de54eda3dc742e.js?fb9ef771726b046de5d1b76a0e55d17739d2a67a317b3c0053963a9155415349\"></script>\\n<script src=\"/js/cmodules/mobile/b-a8f7cf0af671e2a555da7b25524b9a42.e77d43db67fab1789ce6.js?bf8c8032a6eac6ac7a28807b14cc0ecea5ddb85379012d4bf010b2991f75cc85\"></script>\\n<script src=\"/js/cmodules/mobile/grip.ba2b8e745b8cdd50fe9b.js?5f341cf1043ab63458b5af10582dbb0bf04e0700b26960682aad8f71046a7187\"></script>\\n\\n        <link rel=\"canonical\" href=\"https://vk.com/login\" />\\n        <link rel=\"alternate\" href=\"android-app://com.vkontakte.android/vkontakte/m.vk.com/login\" />\\n      </head>\\n\\n      <body  class=\"vk__page _hover vk_ios_no vk_stickers_hints_support_no opera_mini_no vk_safari_no vk__page_login vk_tabbar_static    vk_al_no \">\\n        <script id=\"color-scheme-script\" type=\"text/javascript\">\\n<!--\\n;(function(){\"use strict\";function e(e){var o=e.colorSchemeMode,c=e.isForcedColorSchemeMode,r=e.isDarkSchemeGuideHidden,s=e.colorSchemesMap;if(window.colorScheme){var t=o;try{var i=sessionStorage.getItem(\"colorScheme\");i&&(t=i,window.colorScheme.isModeSavingAllowed=!1),c&&(t=o,window.colorScheme.isModeSavingAllowed=!1,sessionStorage.setItem(\"colorScheme\",o))}catch(e){}window.colorScheme.init({mode:t,schemesMap:s});var d=document.querySelector(\".vk\"),n=d.getAttribute(\"class\");window.isSchemesSupported()&&(n=n.replace(\"vk_schemes_no\",\"vk_schemes_yes\")),d.setAttribute(\"class\",n),window.isSchemesSupported()&&!r&&onDOMReady((function(){window.DarkSchemeModal.open()}))}var m=document.getElementById(\"color-scheme-script\");m.parentNode.removeChild(m)}return e})()({\"colorSchemeMode\":\"auto\",\"isForcedColorSchemeMode\":false,\"isDarkSchemeGuideHidden\":true,\"colorSchemesMap\":null});\\n//-->\\n</script>\\n            <div class=\"layout\">\\n      \\n          <div class=\"layout__header mhead\" id=\"vk_head\">\\n      <div class=\"hb_wrap\">\\n        <div class=\"hb_btn\">&nbsp;</div>\\n      </div>\\n    </div>\\n      <div class=\"layout__body \" id=\"vk_wrap\">\\n        <div class=\"layout__leftMenu\" id=\"l\">\\n          \\n        </div>\\n        <div class=\"layout__basis\" id=\"m\" role=\"main\">\\n              <div class=\"basis\">\\n      <div class=\"basis__header mhead basis__header_noBottomMenu basis__header_noshadow basis__header_noshadowAnim basis__header_nohide\" id=\"mhead\"><a href=\"/\" accesskey=\"*\" class=\"hb_wrap mhb_logo\">\\n  <div class=\" lmh_logo_wrap\">\\n    <div class=\"hb_btn mhi_logo\">&nbsp;</div>\\n    <div class=\"mhi_logo_text\"><div class=\"mhi_logo_text_light\"><div class=\"svgIcon svgIcon-base svgIcon-base__vk_logo_text_light_26\"></div></div><div class=\"mhi_logo_text_dark\"><div class=\"svgIcon svgIcon-base svgIcon-base__vk_logo_text_dark_26\"></div></div></div>\\n  </div>\\n  <h1 class=\"hb_btn mh_header\">&nbsp;</h1>\\n</a>\\n</div>\\n      <div class=\"basis__menu\"><div class=\"VideoFilterBadgeFiller\"></div></div>\\n      \\n      <div class=\"basis__content mcont \" id=\"mcont\" data-canonical=\"https://vk.com/login\"><div class=\"installApp\">\\n  <a class=\"installApp__link\" href=\"https://vk.me/?act=dl\">\\n    <div class=\"installApp__link_wrap\">\\n      <div class=\"installApp__label\">\\n        \\xd0\\xa3\\xd1\\x81\\xd1\\x82\\xd0\\xb0\\xd0\\xbd\\xd0\\xbe\\xd0\\xb2\\xd0\\xb8\\xd1\\x82\\xd1\\x8c \\xd0\\xbf\\xd1\\x80\\xd0\\xb8\\xd0\\xbb\\xd0\\xbe\\xd0\\xb6\\xd0\\xb5\\xd0\\xbd\\xd0\\xb8\\xd0\\xb5 <b>\\xd0\\x92\\xd0\\x9a\\xd0\\xbe\\xd0\\xbd\\xd1\\x82\\xd0\\xb0\\xd0\\xba\\xd1\\x82\\xd0\\xb5</b>\\n        <span class=\"installApp__arrow\"></span>\\n      </div>\\n    </div>\\n  </a>\\n</div><div class=\"pcont fit_box bl_cont new_form\">\\n  <div class=\"PageBlock\">\\n  \\n  <div class=\"form_item\">\\n    <div class=\"login_header\">\\n      \\xd0\\x9c\\xd0\\xbe\\xd0\\xb1\\xd0\\xb8\\xd0\\xbb\\xd1\\x8c\\xd0\\xbd\\xd0\\xb0\\xd1\\x8f \\xd0\\xb2\\xd0\\xb5\\xd1\\x80\\xd1\\x81\\xd0\\xb8\\xd1\\x8f \\xd0\\xbf\\xd0\\xbe\\xd0\\xbc\\xd0\\xbe\\xd0\\xb6\\xd0\\xb5\\xd1\\x82 \\xd0\\x92\\xd0\\xb0\\xd0\\xbc \\xd0\\xbe\\xd1\\x81\\xd1\\x82\\xd0\\xb0\\xd0\\xb2\\xd0\\xb0\\xd1\\x82\\xd1\\x8c\\xd1\\x81\\xd1\\x8f \\xd0\\x92\\xd0\\x9a\\xd0\\xbe\\xd0\\xbd\\xd1\\x82\\xd0\\xb0\\xd0\\xba\\xd1\\x82\\xd0\\xb5, \\xd0\\xb4\\xd0\\xb0\\xd0\\xb6\\xd0\\xb5 \\xd0\\xb5\\xd1\\x81\\xd0\\xbb\\xd0\\xb8 \\xd0\\x92\\xd1\\x8b \\xd0\\xb4\\xd0\\xb0\\xd0\\xbb\\xd0\\xb5\\xd0\\xba\\xd0\\xbe \\xd0\\xbe\\xd1\\x82 \\xd0\\xba\\xd0\\xbe\\xd0\\xbc\\xd0\\xbf\\xd1\\x8c\\xd1\\x8e\\xd1\\x82\\xd0\\xb5\\xd1\\x80\\xd0\\xb0.\\n    </div>\\n    \\n    <form method=\"POST\" action=\"https://login.vk.com/?act=login&_origin=https://m.vk.com&ip_h=c26d0dc51813d8b8a5&lg_h=ab99bd66bebcfa10b1&role=pda&utf8=1\" novalidate>\\n      <dl class=\"fi_row\">\\n        <dd>\\n          <input type=\"text\" class=\"textfield\" name=\"email\" value=\"\" placeholder=\"\\xd0\\xa2\\xd0\\xb5\\xd0\\xbb\\xd0\\xb5\\xd1\\x84\\xd0\\xbe\\xd0\\xbd \\xd0\\xb8\\xd0\\xbb\\xd0\\xb8 email\" />\\n        </dd>\\n      </dl>\\n      <dl class=\"fi_row\">\\n        <dd>\\n          <input type=\"password\" class=\"textfield\" name=\"pass\" placeholder=\"\\xd0\\x9f\\xd0\\xb0\\xd1\\x80\\xd0\\xbe\\xd0\\xbb\\xd1\\x8c\" />\\n        </dd>\\n      </dl>\\n      \\n      <div class=\"fi_row_new\">\\n        <input class=\"button wide_button\" type=\"submit\" value=\"\\xd0\\x92\\xd0\\xbe\\xd0\\xb9\\xd1\\x82\\xd0\\xb8\" />\\n      </div>\\n      <div class=\"fi_row\">\\n        <div class=\"near_btn wide_button login_restore\"><a href=\"https://static.vk.com/restore\" rel=\"noopener\">\\xd0\\x97\\xd0\\xb0\\xd0\\xb1\\xd1\\x8b\\xd0\\xbb\\xd0\\xb8 \\xd0\\xbf\\xd0\\xb0\\xd1\\x80\\xd0\\xbe\\xd0\\xbb\\xd1\\x8c?</a></div>\\n      </div>\\n      <div class=\"login_new_user\">\\n  <div class=\"fi_header fi_header_light\">\\xd0\\x92\\xd0\\xbf\\xd0\\xb5\\xd1\\x80\\xd0\\xb2\\xd1\\x8b\\xd0\\xb5 \\xd0\\x92\\xd0\\x9a\\xd0\\xbe\\xd0\\xbd\\xd1\\x82\\xd0\\xb0\\xd0\\xba\\xd1\\x82\\xd0\\xb5?</div>\\n</div>\\n<div class=\"fi_row\">\\n  <a class=\"button wide_button success\" href=\"/join\" rel=\"noopener\">\\xd0\\x97\\xd0\\xb0\\xd1\\x80\\xd0\\xb5\\xd0\\xb3\\xd0\\xb8\\xd1\\x81\\xd1\\x82\\xd1\\x80\\xd0\\xb8\\xd1\\x80\\xd0\\xbe\\xd0\\xb2\\xd0\\xb0\\xd1\\x82\\xd1\\x8c\\xd1\\x81\\xd1\\x8f</a>\\n</div>\\n<div class=\"socials\">\\n  \\n  <a href=\"/login?act=fb_sign\" class=\"social_button\"><i class=\"social_icon\"></i>\\xd0\\x92\\xd0\\xbe\\xd0\\xb9\\xd1\\x82\\xd0\\xb8 \\xd1\\x87\\xd0\\xb5\\xd1\\x80\\xd0\\xb5\\xd0\\xb7 Facebook</a>\\n</div>\\n    </form>\\n  </div>\\n  </div>\\n</div></div>\\n      \\n      \\n          <div aria-hidden=\"true\" class=\"_cntrs\" style=\"height:0;overflow:hidden;\">\\n          <img width=\"1\" height=\"1\" src=\"https://sb.scorecardresearch.com/p?c1=2&c2=13765216&c3=&c4=https%3A%2F%2Fm.vk.com%2F&c5=&c9=&c15=&cv=2.0&cj=1&rn=33347309\" alt=\"\">\\n      \\n      <noscript><img src=\"//top-fwz1.mail.ru/counter?id=2579437;pid=0;r=\" style=\"border:0;\" height=\"1\" width=\"1\" /></noscript>\\n    </div>\\n    </div>\\n        </div>\\n      </div>\\n    </div>\\n        \\n        \\n        <script type=\"text/javascript\">\\n<!--\\nparent&&parent!=window&&(document.getElementsByTagName(\\'body\\')[0].innerHTML=\\'\\');try{sessionStorage.set(\\'is_mvk_tab\\', 1)}catch(e){};window.store.stickers = {\"url_template\":\"https:\\\\/\\\\/vk.com\\\\/sticker\\\\/1-%id%-%size%\"};;(function (d, w) {\\nvar ts = d.createElement(\"script\"); ts.type = \"text/javascript\"; ts.async = true;\\nts.src = (d.location.protocol == \"https:\" ? \"https:\" : \"http:\") + \"//top-fwz1.mail.ru/js/code.js\";\\nvar f = function () {var s = d.getElementsByTagName(\"script\")[0]; s.parentNode.insertBefore(ts, s);};\\nif (w.opera == \"[object Opera]\") { d.addEventListener(\"DOMContentLoaded\", f, false); } else { f(); }\\n})(document, window);\\n//-->\\n</script>\\n        <div id=\"vk_utils\"></div>\\n        <div id=\"z\"></div>\\n        <div id=\"vk_bottom\"></div>\\n        <div id=\"theme_color_shim\"></div>\\n        \\n        \\n      </body>\\n    </html>'\n"
     ]
    }
   ],
   "source": [
    "import requests\n",
    "\n",
    "url = input()\n",
    "\n",
    "try:\n",
    "    response = requests.get(url, timeout=30)\n",
    "    response.raise_for_status()\n",
    "except requests.Timeout:\n",
    "    print(f\"Ошибка timeout, url: {url}\")\n",
    "except requests.HTTPError as err:\n",
    "    code = err.response.status_code\n",
    "    print(f\"Ошибка url: {url}, code: {code}\")\n",
    "except requests.RequestsException:\n",
    "    print(f\"Ошибка скачивания, url: {url}\")\n",
    "else:\n",
    "    print(response.content)"
   ]
  },
  {
   "cell_type": "code",
   "execution_count": null,
   "metadata": {},
   "outputs": [],
   "source": []
  }
 ],
 "metadata": {
  "kernelspec": {
   "display_name": "Python 3",
   "language": "python",
   "name": "python3"
  },
  "language_info": {
   "codemirror_mode": {
    "name": "ipython",
    "version": 3
   },
   "file_extension": ".py",
   "mimetype": "text/x-python",
   "name": "python",
   "nbconvert_exporter": "python",
   "pygments_lexer": "ipython3",
   "version": "3.8.3"
  }
 },
 "nbformat": 4,
 "nbformat_minor": 4
}
